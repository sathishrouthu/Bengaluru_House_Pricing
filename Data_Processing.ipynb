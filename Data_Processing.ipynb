{
  "nbformat": 4,
  "nbformat_minor": 0,
  "metadata": {
    "colab": {
      "name": "Data_Processing.ipynb",
      "provenance": [],
      "mount_file_id": "https://github.com/sathishrouthu/Bengaluru_House_Pricing/blob/main/Data_Processing.ipynb",
      "authorship_tag": "ABX9TyNiY3Omm1B01O5LTL/CCU03",
      "include_colab_link": true
    },
    "kernelspec": {
      "name": "python3",
      "display_name": "Python 3"
    },
    "language_info": {
      "name": "python"
    }
  },
  "cells": [
    {
      "cell_type": "markdown",
      "metadata": {
        "id": "view-in-github",
        "colab_type": "text"
      },
      "source": [
        "<a href=\"https://colab.research.google.com/github/sathishrouthu/Bengaluru_House_Pricing/blob/main/Data_Processing.ipynb\" target=\"_parent\"><img src=\"https://colab.research.google.com/assets/colab-badge.svg\" alt=\"Open In Colab\"/></a>"
      ]
    },
    {
      "cell_type": "code",
      "execution_count": 2,
      "metadata": {
        "id": "AsnmUwQ43X4Q"
      },
      "outputs": [],
      "source": [
        "import os\n",
        "os.chdir(\"./drive/MyDrive/Bengaluru_House_Pricing/\")"
      ]
    },
    {
      "cell_type": "code",
      "source": [
        ""
      ],
      "metadata": {
        "id": "EmUwsqQJ3_YR"
      },
      "execution_count": 2,
      "outputs": []
    },
    {
      "cell_type": "code",
      "source": [
        "import matplotlib\n",
        "import pandas as pd\n",
        "import numpy as np\n",
        "import matplotlib.pyplot as plt\n",
        "import seaborn as sns\n",
        "import matplotlib\n",
        "\n",
        "from sklearn.model_selection import train_test_split,ShuffleSplit,cross_val_score,GridSearchCV\n",
        "\n",
        "from sklearn.linear_model import LinearRegression,Lasso\n",
        "from sklearn.tree import DecisionTreeRegressor\n",
        "\n",
        "import pickle\n",
        "import json"
      ],
      "metadata": {
        "id": "8WEdwTyW4KZv"
      },
      "execution_count": 86,
      "outputs": []
    },
    {
      "cell_type": "markdown",
      "source": [
        "### Loading Data"
      ],
      "metadata": {
        "id": "sCcahGoYbQUN"
      }
    },
    {
      "cell_type": "code",
      "source": [
        "data = pd.read_csv(\"Bengaluru_House_Data.csv\")"
      ],
      "metadata": {
        "id": "wFMeHr2M4h1Z"
      },
      "execution_count": 4,
      "outputs": []
    },
    {
      "cell_type": "code",
      "source": [
        "data.head()"
      ],
      "metadata": {
        "colab": {
          "base_uri": "https://localhost:8080/",
          "height": 206
        },
        "id": "gbS0UaLQ5QkA",
        "outputId": "1fc3206f-b793-4878-d452-0605b1a61c37"
      },
      "execution_count": 5,
      "outputs": [
        {
          "output_type": "execute_result",
          "data": {
            "text/plain": [
              "              area_type   availability                  location       size  \\\n",
              "0  Super built-up  Area         19-Dec  Electronic City Phase II      2 BHK   \n",
              "1            Plot  Area  Ready To Move          Chikka Tirupathi  4 Bedroom   \n",
              "2        Built-up  Area  Ready To Move               Uttarahalli      3 BHK   \n",
              "3  Super built-up  Area  Ready To Move        Lingadheeranahalli      3 BHK   \n",
              "4  Super built-up  Area  Ready To Move                  Kothanur      2 BHK   \n",
              "\n",
              "   society total_sqft  bath  balcony   price  \n",
              "0  Coomee        1056   2.0      1.0   39.07  \n",
              "1  Theanmp       2600   5.0      3.0  120.00  \n",
              "2      NaN       1440   2.0      3.0   62.00  \n",
              "3  Soiewre       1521   3.0      1.0   95.00  \n",
              "4      NaN       1200   2.0      1.0   51.00  "
            ],
            "text/html": [
              "\n",
              "  <div id=\"df-a63f1378-48ca-41fd-86af-f6420f8c8456\">\n",
              "    <div class=\"colab-df-container\">\n",
              "      <div>\n",
              "<style scoped>\n",
              "    .dataframe tbody tr th:only-of-type {\n",
              "        vertical-align: middle;\n",
              "    }\n",
              "\n",
              "    .dataframe tbody tr th {\n",
              "        vertical-align: top;\n",
              "    }\n",
              "\n",
              "    .dataframe thead th {\n",
              "        text-align: right;\n",
              "    }\n",
              "</style>\n",
              "<table border=\"1\" class=\"dataframe\">\n",
              "  <thead>\n",
              "    <tr style=\"text-align: right;\">\n",
              "      <th></th>\n",
              "      <th>area_type</th>\n",
              "      <th>availability</th>\n",
              "      <th>location</th>\n",
              "      <th>size</th>\n",
              "      <th>society</th>\n",
              "      <th>total_sqft</th>\n",
              "      <th>bath</th>\n",
              "      <th>balcony</th>\n",
              "      <th>price</th>\n",
              "    </tr>\n",
              "  </thead>\n",
              "  <tbody>\n",
              "    <tr>\n",
              "      <th>0</th>\n",
              "      <td>Super built-up  Area</td>\n",
              "      <td>19-Dec</td>\n",
              "      <td>Electronic City Phase II</td>\n",
              "      <td>2 BHK</td>\n",
              "      <td>Coomee</td>\n",
              "      <td>1056</td>\n",
              "      <td>2.0</td>\n",
              "      <td>1.0</td>\n",
              "      <td>39.07</td>\n",
              "    </tr>\n",
              "    <tr>\n",
              "      <th>1</th>\n",
              "      <td>Plot  Area</td>\n",
              "      <td>Ready To Move</td>\n",
              "      <td>Chikka Tirupathi</td>\n",
              "      <td>4 Bedroom</td>\n",
              "      <td>Theanmp</td>\n",
              "      <td>2600</td>\n",
              "      <td>5.0</td>\n",
              "      <td>3.0</td>\n",
              "      <td>120.00</td>\n",
              "    </tr>\n",
              "    <tr>\n",
              "      <th>2</th>\n",
              "      <td>Built-up  Area</td>\n",
              "      <td>Ready To Move</td>\n",
              "      <td>Uttarahalli</td>\n",
              "      <td>3 BHK</td>\n",
              "      <td>NaN</td>\n",
              "      <td>1440</td>\n",
              "      <td>2.0</td>\n",
              "      <td>3.0</td>\n",
              "      <td>62.00</td>\n",
              "    </tr>\n",
              "    <tr>\n",
              "      <th>3</th>\n",
              "      <td>Super built-up  Area</td>\n",
              "      <td>Ready To Move</td>\n",
              "      <td>Lingadheeranahalli</td>\n",
              "      <td>3 BHK</td>\n",
              "      <td>Soiewre</td>\n",
              "      <td>1521</td>\n",
              "      <td>3.0</td>\n",
              "      <td>1.0</td>\n",
              "      <td>95.00</td>\n",
              "    </tr>\n",
              "    <tr>\n",
              "      <th>4</th>\n",
              "      <td>Super built-up  Area</td>\n",
              "      <td>Ready To Move</td>\n",
              "      <td>Kothanur</td>\n",
              "      <td>2 BHK</td>\n",
              "      <td>NaN</td>\n",
              "      <td>1200</td>\n",
              "      <td>2.0</td>\n",
              "      <td>1.0</td>\n",
              "      <td>51.00</td>\n",
              "    </tr>\n",
              "  </tbody>\n",
              "</table>\n",
              "</div>\n",
              "      <button class=\"colab-df-convert\" onclick=\"convertToInteractive('df-a63f1378-48ca-41fd-86af-f6420f8c8456')\"\n",
              "              title=\"Convert this dataframe to an interactive table.\"\n",
              "              style=\"display:none;\">\n",
              "        \n",
              "  <svg xmlns=\"http://www.w3.org/2000/svg\" height=\"24px\"viewBox=\"0 0 24 24\"\n",
              "       width=\"24px\">\n",
              "    <path d=\"M0 0h24v24H0V0z\" fill=\"none\"/>\n",
              "    <path d=\"M18.56 5.44l.94 2.06.94-2.06 2.06-.94-2.06-.94-.94-2.06-.94 2.06-2.06.94zm-11 1L8.5 8.5l.94-2.06 2.06-.94-2.06-.94L8.5 2.5l-.94 2.06-2.06.94zm10 10l.94 2.06.94-2.06 2.06-.94-2.06-.94-.94-2.06-.94 2.06-2.06.94z\"/><path d=\"M17.41 7.96l-1.37-1.37c-.4-.4-.92-.59-1.43-.59-.52 0-1.04.2-1.43.59L10.3 9.45l-7.72 7.72c-.78.78-.78 2.05 0 2.83L4 21.41c.39.39.9.59 1.41.59.51 0 1.02-.2 1.41-.59l7.78-7.78 2.81-2.81c.8-.78.8-2.07 0-2.86zM5.41 20L4 18.59l7.72-7.72 1.47 1.35L5.41 20z\"/>\n",
              "  </svg>\n",
              "      </button>\n",
              "      \n",
              "  <style>\n",
              "    .colab-df-container {\n",
              "      display:flex;\n",
              "      flex-wrap:wrap;\n",
              "      gap: 12px;\n",
              "    }\n",
              "\n",
              "    .colab-df-convert {\n",
              "      background-color: #E8F0FE;\n",
              "      border: none;\n",
              "      border-radius: 50%;\n",
              "      cursor: pointer;\n",
              "      display: none;\n",
              "      fill: #1967D2;\n",
              "      height: 32px;\n",
              "      padding: 0 0 0 0;\n",
              "      width: 32px;\n",
              "    }\n",
              "\n",
              "    .colab-df-convert:hover {\n",
              "      background-color: #E2EBFA;\n",
              "      box-shadow: 0px 1px 2px rgba(60, 64, 67, 0.3), 0px 1px 3px 1px rgba(60, 64, 67, 0.15);\n",
              "      fill: #174EA6;\n",
              "    }\n",
              "\n",
              "    [theme=dark] .colab-df-convert {\n",
              "      background-color: #3B4455;\n",
              "      fill: #D2E3FC;\n",
              "    }\n",
              "\n",
              "    [theme=dark] .colab-df-convert:hover {\n",
              "      background-color: #434B5C;\n",
              "      box-shadow: 0px 1px 3px 1px rgba(0, 0, 0, 0.15);\n",
              "      filter: drop-shadow(0px 1px 2px rgba(0, 0, 0, 0.3));\n",
              "      fill: #FFFFFF;\n",
              "    }\n",
              "  </style>\n",
              "\n",
              "      <script>\n",
              "        const buttonEl =\n",
              "          document.querySelector('#df-a63f1378-48ca-41fd-86af-f6420f8c8456 button.colab-df-convert');\n",
              "        buttonEl.style.display =\n",
              "          google.colab.kernel.accessAllowed ? 'block' : 'none';\n",
              "\n",
              "        async function convertToInteractive(key) {\n",
              "          const element = document.querySelector('#df-a63f1378-48ca-41fd-86af-f6420f8c8456');\n",
              "          const dataTable =\n",
              "            await google.colab.kernel.invokeFunction('convertToInteractive',\n",
              "                                                     [key], {});\n",
              "          if (!dataTable) return;\n",
              "\n",
              "          const docLinkHtml = 'Like what you see? Visit the ' +\n",
              "            '<a target=\"_blank\" href=https://colab.research.google.com/notebooks/data_table.ipynb>data table notebook</a>'\n",
              "            + ' to learn more about interactive tables.';\n",
              "          element.innerHTML = '';\n",
              "          dataTable['output_type'] = 'display_data';\n",
              "          await google.colab.output.renderOutput(dataTable, element);\n",
              "          const docLink = document.createElement('div');\n",
              "          docLink.innerHTML = docLinkHtml;\n",
              "          element.appendChild(docLink);\n",
              "        }\n",
              "      </script>\n",
              "    </div>\n",
              "  </div>\n",
              "  "
            ]
          },
          "metadata": {},
          "execution_count": 5
        }
      ]
    },
    {
      "cell_type": "code",
      "source": [
        "data.shape"
      ],
      "metadata": {
        "colab": {
          "base_uri": "https://localhost:8080/"
        },
        "id": "G_z5hNbO5MZC",
        "outputId": "20511296-fd67-4568-8426-ff82af403447"
      },
      "execution_count": 6,
      "outputs": [
        {
          "output_type": "execute_result",
          "data": {
            "text/plain": [
              "(13320, 9)"
            ]
          },
          "metadata": {},
          "execution_count": 6
        }
      ]
    },
    {
      "cell_type": "code",
      "source": [
        "data[\"area_type\"].value_counts()"
      ],
      "metadata": {
        "colab": {
          "base_uri": "https://localhost:8080/"
        },
        "id": "AKof-_-t5pbu",
        "outputId": "4e17912d-d1ee-4911-a1c8-8163f05c6f1c"
      },
      "execution_count": 7,
      "outputs": [
        {
          "output_type": "execute_result",
          "data": {
            "text/plain": [
              "Super built-up  Area    8790\n",
              "Built-up  Area          2418\n",
              "Plot  Area              2025\n",
              "Carpet  Area              87\n",
              "Name: area_type, dtype: int64"
            ]
          },
          "metadata": {},
          "execution_count": 7
        }
      ]
    },
    {
      "cell_type": "markdown",
      "source": [
        "### Data Cleaning"
      ],
      "metadata": {
        "id": "No9qkdQ3bT-Q"
      }
    },
    {
      "cell_type": "code",
      "source": [
        "data.drop([\"area_type\",\"availability\",\"society\",\"balcony\"],axis=1,inplace = True)"
      ],
      "metadata": {
        "id": "pgYr0ksm5taI"
      },
      "execution_count": 8,
      "outputs": []
    },
    {
      "cell_type": "code",
      "source": [
        "data.head()"
      ],
      "metadata": {
        "colab": {
          "base_uri": "https://localhost:8080/",
          "height": 206
        },
        "id": "Uq2-Tmmu6mYH",
        "outputId": "d9149647-50d7-4fd6-d8f3-6fbecf309b27"
      },
      "execution_count": 9,
      "outputs": [
        {
          "output_type": "execute_result",
          "data": {
            "text/plain": [
              "                   location       size total_sqft  bath   price\n",
              "0  Electronic City Phase II      2 BHK       1056   2.0   39.07\n",
              "1          Chikka Tirupathi  4 Bedroom       2600   5.0  120.00\n",
              "2               Uttarahalli      3 BHK       1440   2.0   62.00\n",
              "3        Lingadheeranahalli      3 BHK       1521   3.0   95.00\n",
              "4                  Kothanur      2 BHK       1200   2.0   51.00"
            ],
            "text/html": [
              "\n",
              "  <div id=\"df-5fc009ca-8cb3-4b78-808f-23b683963245\">\n",
              "    <div class=\"colab-df-container\">\n",
              "      <div>\n",
              "<style scoped>\n",
              "    .dataframe tbody tr th:only-of-type {\n",
              "        vertical-align: middle;\n",
              "    }\n",
              "\n",
              "    .dataframe tbody tr th {\n",
              "        vertical-align: top;\n",
              "    }\n",
              "\n",
              "    .dataframe thead th {\n",
              "        text-align: right;\n",
              "    }\n",
              "</style>\n",
              "<table border=\"1\" class=\"dataframe\">\n",
              "  <thead>\n",
              "    <tr style=\"text-align: right;\">\n",
              "      <th></th>\n",
              "      <th>location</th>\n",
              "      <th>size</th>\n",
              "      <th>total_sqft</th>\n",
              "      <th>bath</th>\n",
              "      <th>price</th>\n",
              "    </tr>\n",
              "  </thead>\n",
              "  <tbody>\n",
              "    <tr>\n",
              "      <th>0</th>\n",
              "      <td>Electronic City Phase II</td>\n",
              "      <td>2 BHK</td>\n",
              "      <td>1056</td>\n",
              "      <td>2.0</td>\n",
              "      <td>39.07</td>\n",
              "    </tr>\n",
              "    <tr>\n",
              "      <th>1</th>\n",
              "      <td>Chikka Tirupathi</td>\n",
              "      <td>4 Bedroom</td>\n",
              "      <td>2600</td>\n",
              "      <td>5.0</td>\n",
              "      <td>120.00</td>\n",
              "    </tr>\n",
              "    <tr>\n",
              "      <th>2</th>\n",
              "      <td>Uttarahalli</td>\n",
              "      <td>3 BHK</td>\n",
              "      <td>1440</td>\n",
              "      <td>2.0</td>\n",
              "      <td>62.00</td>\n",
              "    </tr>\n",
              "    <tr>\n",
              "      <th>3</th>\n",
              "      <td>Lingadheeranahalli</td>\n",
              "      <td>3 BHK</td>\n",
              "      <td>1521</td>\n",
              "      <td>3.0</td>\n",
              "      <td>95.00</td>\n",
              "    </tr>\n",
              "    <tr>\n",
              "      <th>4</th>\n",
              "      <td>Kothanur</td>\n",
              "      <td>2 BHK</td>\n",
              "      <td>1200</td>\n",
              "      <td>2.0</td>\n",
              "      <td>51.00</td>\n",
              "    </tr>\n",
              "  </tbody>\n",
              "</table>\n",
              "</div>\n",
              "      <button class=\"colab-df-convert\" onclick=\"convertToInteractive('df-5fc009ca-8cb3-4b78-808f-23b683963245')\"\n",
              "              title=\"Convert this dataframe to an interactive table.\"\n",
              "              style=\"display:none;\">\n",
              "        \n",
              "  <svg xmlns=\"http://www.w3.org/2000/svg\" height=\"24px\"viewBox=\"0 0 24 24\"\n",
              "       width=\"24px\">\n",
              "    <path d=\"M0 0h24v24H0V0z\" fill=\"none\"/>\n",
              "    <path d=\"M18.56 5.44l.94 2.06.94-2.06 2.06-.94-2.06-.94-.94-2.06-.94 2.06-2.06.94zm-11 1L8.5 8.5l.94-2.06 2.06-.94-2.06-.94L8.5 2.5l-.94 2.06-2.06.94zm10 10l.94 2.06.94-2.06 2.06-.94-2.06-.94-.94-2.06-.94 2.06-2.06.94z\"/><path d=\"M17.41 7.96l-1.37-1.37c-.4-.4-.92-.59-1.43-.59-.52 0-1.04.2-1.43.59L10.3 9.45l-7.72 7.72c-.78.78-.78 2.05 0 2.83L4 21.41c.39.39.9.59 1.41.59.51 0 1.02-.2 1.41-.59l7.78-7.78 2.81-2.81c.8-.78.8-2.07 0-2.86zM5.41 20L4 18.59l7.72-7.72 1.47 1.35L5.41 20z\"/>\n",
              "  </svg>\n",
              "      </button>\n",
              "      \n",
              "  <style>\n",
              "    .colab-df-container {\n",
              "      display:flex;\n",
              "      flex-wrap:wrap;\n",
              "      gap: 12px;\n",
              "    }\n",
              "\n",
              "    .colab-df-convert {\n",
              "      background-color: #E8F0FE;\n",
              "      border: none;\n",
              "      border-radius: 50%;\n",
              "      cursor: pointer;\n",
              "      display: none;\n",
              "      fill: #1967D2;\n",
              "      height: 32px;\n",
              "      padding: 0 0 0 0;\n",
              "      width: 32px;\n",
              "    }\n",
              "\n",
              "    .colab-df-convert:hover {\n",
              "      background-color: #E2EBFA;\n",
              "      box-shadow: 0px 1px 2px rgba(60, 64, 67, 0.3), 0px 1px 3px 1px rgba(60, 64, 67, 0.15);\n",
              "      fill: #174EA6;\n",
              "    }\n",
              "\n",
              "    [theme=dark] .colab-df-convert {\n",
              "      background-color: #3B4455;\n",
              "      fill: #D2E3FC;\n",
              "    }\n",
              "\n",
              "    [theme=dark] .colab-df-convert:hover {\n",
              "      background-color: #434B5C;\n",
              "      box-shadow: 0px 1px 3px 1px rgba(0, 0, 0, 0.15);\n",
              "      filter: drop-shadow(0px 1px 2px rgba(0, 0, 0, 0.3));\n",
              "      fill: #FFFFFF;\n",
              "    }\n",
              "  </style>\n",
              "\n",
              "      <script>\n",
              "        const buttonEl =\n",
              "          document.querySelector('#df-5fc009ca-8cb3-4b78-808f-23b683963245 button.colab-df-convert');\n",
              "        buttonEl.style.display =\n",
              "          google.colab.kernel.accessAllowed ? 'block' : 'none';\n",
              "\n",
              "        async function convertToInteractive(key) {\n",
              "          const element = document.querySelector('#df-5fc009ca-8cb3-4b78-808f-23b683963245');\n",
              "          const dataTable =\n",
              "            await google.colab.kernel.invokeFunction('convertToInteractive',\n",
              "                                                     [key], {});\n",
              "          if (!dataTable) return;\n",
              "\n",
              "          const docLinkHtml = 'Like what you see? Visit the ' +\n",
              "            '<a target=\"_blank\" href=https://colab.research.google.com/notebooks/data_table.ipynb>data table notebook</a>'\n",
              "            + ' to learn more about interactive tables.';\n",
              "          element.innerHTML = '';\n",
              "          dataTable['output_type'] = 'display_data';\n",
              "          await google.colab.output.renderOutput(dataTable, element);\n",
              "          const docLink = document.createElement('div');\n",
              "          docLink.innerHTML = docLinkHtml;\n",
              "          element.appendChild(docLink);\n",
              "        }\n",
              "      </script>\n",
              "    </div>\n",
              "  </div>\n",
              "  "
            ]
          },
          "metadata": {},
          "execution_count": 9
        }
      ]
    },
    {
      "cell_type": "markdown",
      "source": [
        "### Handle Null values"
      ],
      "metadata": {
        "id": "2hhnzXsgbJhW"
      }
    },
    {
      "cell_type": "code",
      "source": [
        "data.isna().sum()"
      ],
      "metadata": {
        "colab": {
          "base_uri": "https://localhost:8080/"
        },
        "id": "-YfCTqjH6ntF",
        "outputId": "35b01c03-a5b1-48fd-c21f-d48a63246213"
      },
      "execution_count": 10,
      "outputs": [
        {
          "output_type": "execute_result",
          "data": {
            "text/plain": [
              "location       1\n",
              "size          16\n",
              "total_sqft     0\n",
              "bath          73\n",
              "price          0\n",
              "dtype: int64"
            ]
          },
          "metadata": {},
          "execution_count": 10
        }
      ]
    },
    {
      "cell_type": "code",
      "source": [
        "# null <<< total values\n",
        "\n",
        "data.dropna(inplace=True)\n",
        "\n",
        "data.isna().sum()"
      ],
      "metadata": {
        "colab": {
          "base_uri": "https://localhost:8080/"
        },
        "id": "l9NFTGGi6qrZ",
        "outputId": "f4ea9bfb-3448-4f91-faa3-fcf8d7f9942a"
      },
      "execution_count": 11,
      "outputs": [
        {
          "output_type": "execute_result",
          "data": {
            "text/plain": [
              "location      0\n",
              "size          0\n",
              "total_sqft    0\n",
              "bath          0\n",
              "price         0\n",
              "dtype: int64"
            ]
          },
          "metadata": {},
          "execution_count": 11
        }
      ]
    },
    {
      "cell_type": "markdown",
      "source": [
        "### Feature Engineering\n",
        "\n",
        "**Add new feature(integer) for bhk (Bedrooms Hall Kitchen)**"
      ],
      "metadata": {
        "id": "-6OxOng6bCao"
      }
    },
    {
      "cell_type": "code",
      "source": [
        "data[\"size\"].unique()"
      ],
      "metadata": {
        "colab": {
          "base_uri": "https://localhost:8080/"
        },
        "id": "NWv1kEC-60JJ",
        "outputId": "1778e82a-f8c0-4c41-ec9d-8fbc4c976b2b"
      },
      "execution_count": 12,
      "outputs": [
        {
          "output_type": "execute_result",
          "data": {
            "text/plain": [
              "array(['2 BHK', '4 Bedroom', '3 BHK', '4 BHK', '6 Bedroom', '3 Bedroom',\n",
              "       '1 BHK', '1 RK', '1 Bedroom', '8 Bedroom', '2 Bedroom',\n",
              "       '7 Bedroom', '5 BHK', '7 BHK', '6 BHK', '5 Bedroom', '11 BHK',\n",
              "       '9 BHK', '9 Bedroom', '27 BHK', '10 Bedroom', '11 Bedroom',\n",
              "       '10 BHK', '19 BHK', '16 BHK', '43 Bedroom', '14 BHK', '8 BHK',\n",
              "       '12 Bedroom', '13 BHK', '18 Bedroom'], dtype=object)"
            ]
          },
          "metadata": {},
          "execution_count": 12
        }
      ]
    },
    {
      "cell_type": "code",
      "source": [
        "data[\"BHK\"] = data[\"size\"].apply(lambda x : int(x.split()[0]))"
      ],
      "metadata": {
        "id": "zMNYbaiN66GW"
      },
      "execution_count": 13,
      "outputs": []
    },
    {
      "cell_type": "code",
      "source": [
        "data[\"BHK\"].unique()"
      ],
      "metadata": {
        "colab": {
          "base_uri": "https://localhost:8080/"
        },
        "id": "LGWCKo5i7u3b",
        "outputId": "8b86c925-540b-4e0a-c3af-3e5a35a02518"
      },
      "execution_count": 14,
      "outputs": [
        {
          "output_type": "execute_result",
          "data": {
            "text/plain": [
              "array([ 2,  4,  3,  6,  1,  8,  7,  5, 11,  9, 27, 10, 19, 16, 43, 14, 12,\n",
              "       13, 18])"
            ]
          },
          "metadata": {},
          "execution_count": 14
        }
      ]
    },
    {
      "cell_type": "code",
      "source": [
        "data[data[\"BHK\"]>20]"
      ],
      "metadata": {
        "colab": {
          "base_uri": "https://localhost:8080/",
          "height": 112
        },
        "id": "IbRNISqP7xUq",
        "outputId": "4b714a30-12da-4a96-e968-959dd72ff155"
      },
      "execution_count": 15,
      "outputs": [
        {
          "output_type": "execute_result",
          "data": {
            "text/plain": [
              "                       location        size total_sqft  bath  price  BHK\n",
              "1718  2Electronic City Phase II      27 BHK       8000  27.0  230.0   27\n",
              "4684                Munnekollal  43 Bedroom       2400  40.0  660.0   43"
            ],
            "text/html": [
              "\n",
              "  <div id=\"df-fdb45d38-9576-4691-9c92-eba67de75cf3\">\n",
              "    <div class=\"colab-df-container\">\n",
              "      <div>\n",
              "<style scoped>\n",
              "    .dataframe tbody tr th:only-of-type {\n",
              "        vertical-align: middle;\n",
              "    }\n",
              "\n",
              "    .dataframe tbody tr th {\n",
              "        vertical-align: top;\n",
              "    }\n",
              "\n",
              "    .dataframe thead th {\n",
              "        text-align: right;\n",
              "    }\n",
              "</style>\n",
              "<table border=\"1\" class=\"dataframe\">\n",
              "  <thead>\n",
              "    <tr style=\"text-align: right;\">\n",
              "      <th></th>\n",
              "      <th>location</th>\n",
              "      <th>size</th>\n",
              "      <th>total_sqft</th>\n",
              "      <th>bath</th>\n",
              "      <th>price</th>\n",
              "      <th>BHK</th>\n",
              "    </tr>\n",
              "  </thead>\n",
              "  <tbody>\n",
              "    <tr>\n",
              "      <th>1718</th>\n",
              "      <td>2Electronic City Phase II</td>\n",
              "      <td>27 BHK</td>\n",
              "      <td>8000</td>\n",
              "      <td>27.0</td>\n",
              "      <td>230.0</td>\n",
              "      <td>27</td>\n",
              "    </tr>\n",
              "    <tr>\n",
              "      <th>4684</th>\n",
              "      <td>Munnekollal</td>\n",
              "      <td>43 Bedroom</td>\n",
              "      <td>2400</td>\n",
              "      <td>40.0</td>\n",
              "      <td>660.0</td>\n",
              "      <td>43</td>\n",
              "    </tr>\n",
              "  </tbody>\n",
              "</table>\n",
              "</div>\n",
              "      <button class=\"colab-df-convert\" onclick=\"convertToInteractive('df-fdb45d38-9576-4691-9c92-eba67de75cf3')\"\n",
              "              title=\"Convert this dataframe to an interactive table.\"\n",
              "              style=\"display:none;\">\n",
              "        \n",
              "  <svg xmlns=\"http://www.w3.org/2000/svg\" height=\"24px\"viewBox=\"0 0 24 24\"\n",
              "       width=\"24px\">\n",
              "    <path d=\"M0 0h24v24H0V0z\" fill=\"none\"/>\n",
              "    <path d=\"M18.56 5.44l.94 2.06.94-2.06 2.06-.94-2.06-.94-.94-2.06-.94 2.06-2.06.94zm-11 1L8.5 8.5l.94-2.06 2.06-.94-2.06-.94L8.5 2.5l-.94 2.06-2.06.94zm10 10l.94 2.06.94-2.06 2.06-.94-2.06-.94-.94-2.06-.94 2.06-2.06.94z\"/><path d=\"M17.41 7.96l-1.37-1.37c-.4-.4-.92-.59-1.43-.59-.52 0-1.04.2-1.43.59L10.3 9.45l-7.72 7.72c-.78.78-.78 2.05 0 2.83L4 21.41c.39.39.9.59 1.41.59.51 0 1.02-.2 1.41-.59l7.78-7.78 2.81-2.81c.8-.78.8-2.07 0-2.86zM5.41 20L4 18.59l7.72-7.72 1.47 1.35L5.41 20z\"/>\n",
              "  </svg>\n",
              "      </button>\n",
              "      \n",
              "  <style>\n",
              "    .colab-df-container {\n",
              "      display:flex;\n",
              "      flex-wrap:wrap;\n",
              "      gap: 12px;\n",
              "    }\n",
              "\n",
              "    .colab-df-convert {\n",
              "      background-color: #E8F0FE;\n",
              "      border: none;\n",
              "      border-radius: 50%;\n",
              "      cursor: pointer;\n",
              "      display: none;\n",
              "      fill: #1967D2;\n",
              "      height: 32px;\n",
              "      padding: 0 0 0 0;\n",
              "      width: 32px;\n",
              "    }\n",
              "\n",
              "    .colab-df-convert:hover {\n",
              "      background-color: #E2EBFA;\n",
              "      box-shadow: 0px 1px 2px rgba(60, 64, 67, 0.3), 0px 1px 3px 1px rgba(60, 64, 67, 0.15);\n",
              "      fill: #174EA6;\n",
              "    }\n",
              "\n",
              "    [theme=dark] .colab-df-convert {\n",
              "      background-color: #3B4455;\n",
              "      fill: #D2E3FC;\n",
              "    }\n",
              "\n",
              "    [theme=dark] .colab-df-convert:hover {\n",
              "      background-color: #434B5C;\n",
              "      box-shadow: 0px 1px 3px 1px rgba(0, 0, 0, 0.15);\n",
              "      filter: drop-shadow(0px 1px 2px rgba(0, 0, 0, 0.3));\n",
              "      fill: #FFFFFF;\n",
              "    }\n",
              "  </style>\n",
              "\n",
              "      <script>\n",
              "        const buttonEl =\n",
              "          document.querySelector('#df-fdb45d38-9576-4691-9c92-eba67de75cf3 button.colab-df-convert');\n",
              "        buttonEl.style.display =\n",
              "          google.colab.kernel.accessAllowed ? 'block' : 'none';\n",
              "\n",
              "        async function convertToInteractive(key) {\n",
              "          const element = document.querySelector('#df-fdb45d38-9576-4691-9c92-eba67de75cf3');\n",
              "          const dataTable =\n",
              "            await google.colab.kernel.invokeFunction('convertToInteractive',\n",
              "                                                     [key], {});\n",
              "          if (!dataTable) return;\n",
              "\n",
              "          const docLinkHtml = 'Like what you see? Visit the ' +\n",
              "            '<a target=\"_blank\" href=https://colab.research.google.com/notebooks/data_table.ipynb>data table notebook</a>'\n",
              "            + ' to learn more about interactive tables.';\n",
              "          element.innerHTML = '';\n",
              "          dataTable['output_type'] = 'display_data';\n",
              "          await google.colab.output.renderOutput(dataTable, element);\n",
              "          const docLink = document.createElement('div');\n",
              "          docLink.innerHTML = docLinkHtml;\n",
              "          element.appendChild(docLink);\n",
              "        }\n",
              "      </script>\n",
              "    </div>\n",
              "  </div>\n",
              "  "
            ]
          },
          "metadata": {},
          "execution_count": 15
        }
      ]
    },
    {
      "cell_type": "markdown",
      "source": [
        "Seems to be there are some errors/mistakes in No. of bedrooms "
      ],
      "metadata": {
        "id": "xERZIfVz72Ms"
      }
    },
    {
      "cell_type": "code",
      "source": [
        "data[\"total_sqft\"].unique()"
      ],
      "metadata": {
        "colab": {
          "base_uri": "https://localhost:8080/"
        },
        "id": "BPaM4aIQ70ky",
        "outputId": "4ef02c1b-e589-47ab-a93f-f529b07eccac"
      },
      "execution_count": 16,
      "outputs": [
        {
          "output_type": "execute_result",
          "data": {
            "text/plain": [
              "array(['1056', '2600', '1440', ..., '1133 - 1384', '774', '4689'],\n",
              "      dtype=object)"
            ]
          },
          "metadata": {},
          "execution_count": 16
        }
      ]
    },
    {
      "cell_type": "code",
      "source": [
        "def is_float(x):\n",
        "    try:\n",
        "        float(x)\n",
        "    except:\n",
        "        return False\n",
        "    return True"
      ],
      "metadata": {
        "id": "ISyjSVAM8FAf"
      },
      "execution_count": 17,
      "outputs": []
    },
    {
      "cell_type": "code",
      "source": [
        "data[~data['total_sqft'].apply(is_float)].head(10)"
      ],
      "metadata": {
        "colab": {
          "base_uri": "https://localhost:8080/",
          "height": 363
        },
        "id": "Vjhm5ySG92iC",
        "outputId": "3032752d-0218-4349-d937-65770dab572f"
      },
      "execution_count": 18,
      "outputs": [
        {
          "output_type": "execute_result",
          "data": {
            "text/plain": [
              "               location       size      total_sqft  bath    price  BHK\n",
              "30            Yelahanka      4 BHK     2100 - 2850   4.0  186.000    4\n",
              "122              Hebbal      4 BHK     3067 - 8156   4.0  477.000    4\n",
              "137  8th Phase JP Nagar      2 BHK     1042 - 1105   2.0   54.005    2\n",
              "165            Sarjapur      2 BHK     1145 - 1340   2.0   43.490    2\n",
              "188            KR Puram      2 BHK     1015 - 1540   2.0   56.800    2\n",
              "410             Kengeri      1 BHK  34.46Sq. Meter   1.0   18.500    1\n",
              "549         Hennur Road      2 BHK     1195 - 1440   2.0   63.770    2\n",
              "648             Arekere  9 Bedroom       4125Perch   9.0  265.000    9\n",
              "661           Yelahanka      2 BHK     1120 - 1145   2.0   48.130    2\n",
              "672        Bettahalsoor  4 Bedroom     3090 - 5002   4.0  445.000    4"
            ],
            "text/html": [
              "\n",
              "  <div id=\"df-cfaadd55-a16b-4d0c-b34f-beb2681a7489\">\n",
              "    <div class=\"colab-df-container\">\n",
              "      <div>\n",
              "<style scoped>\n",
              "    .dataframe tbody tr th:only-of-type {\n",
              "        vertical-align: middle;\n",
              "    }\n",
              "\n",
              "    .dataframe tbody tr th {\n",
              "        vertical-align: top;\n",
              "    }\n",
              "\n",
              "    .dataframe thead th {\n",
              "        text-align: right;\n",
              "    }\n",
              "</style>\n",
              "<table border=\"1\" class=\"dataframe\">\n",
              "  <thead>\n",
              "    <tr style=\"text-align: right;\">\n",
              "      <th></th>\n",
              "      <th>location</th>\n",
              "      <th>size</th>\n",
              "      <th>total_sqft</th>\n",
              "      <th>bath</th>\n",
              "      <th>price</th>\n",
              "      <th>BHK</th>\n",
              "    </tr>\n",
              "  </thead>\n",
              "  <tbody>\n",
              "    <tr>\n",
              "      <th>30</th>\n",
              "      <td>Yelahanka</td>\n",
              "      <td>4 BHK</td>\n",
              "      <td>2100 - 2850</td>\n",
              "      <td>4.0</td>\n",
              "      <td>186.000</td>\n",
              "      <td>4</td>\n",
              "    </tr>\n",
              "    <tr>\n",
              "      <th>122</th>\n",
              "      <td>Hebbal</td>\n",
              "      <td>4 BHK</td>\n",
              "      <td>3067 - 8156</td>\n",
              "      <td>4.0</td>\n",
              "      <td>477.000</td>\n",
              "      <td>4</td>\n",
              "    </tr>\n",
              "    <tr>\n",
              "      <th>137</th>\n",
              "      <td>8th Phase JP Nagar</td>\n",
              "      <td>2 BHK</td>\n",
              "      <td>1042 - 1105</td>\n",
              "      <td>2.0</td>\n",
              "      <td>54.005</td>\n",
              "      <td>2</td>\n",
              "    </tr>\n",
              "    <tr>\n",
              "      <th>165</th>\n",
              "      <td>Sarjapur</td>\n",
              "      <td>2 BHK</td>\n",
              "      <td>1145 - 1340</td>\n",
              "      <td>2.0</td>\n",
              "      <td>43.490</td>\n",
              "      <td>2</td>\n",
              "    </tr>\n",
              "    <tr>\n",
              "      <th>188</th>\n",
              "      <td>KR Puram</td>\n",
              "      <td>2 BHK</td>\n",
              "      <td>1015 - 1540</td>\n",
              "      <td>2.0</td>\n",
              "      <td>56.800</td>\n",
              "      <td>2</td>\n",
              "    </tr>\n",
              "    <tr>\n",
              "      <th>410</th>\n",
              "      <td>Kengeri</td>\n",
              "      <td>1 BHK</td>\n",
              "      <td>34.46Sq. Meter</td>\n",
              "      <td>1.0</td>\n",
              "      <td>18.500</td>\n",
              "      <td>1</td>\n",
              "    </tr>\n",
              "    <tr>\n",
              "      <th>549</th>\n",
              "      <td>Hennur Road</td>\n",
              "      <td>2 BHK</td>\n",
              "      <td>1195 - 1440</td>\n",
              "      <td>2.0</td>\n",
              "      <td>63.770</td>\n",
              "      <td>2</td>\n",
              "    </tr>\n",
              "    <tr>\n",
              "      <th>648</th>\n",
              "      <td>Arekere</td>\n",
              "      <td>9 Bedroom</td>\n",
              "      <td>4125Perch</td>\n",
              "      <td>9.0</td>\n",
              "      <td>265.000</td>\n",
              "      <td>9</td>\n",
              "    </tr>\n",
              "    <tr>\n",
              "      <th>661</th>\n",
              "      <td>Yelahanka</td>\n",
              "      <td>2 BHK</td>\n",
              "      <td>1120 - 1145</td>\n",
              "      <td>2.0</td>\n",
              "      <td>48.130</td>\n",
              "      <td>2</td>\n",
              "    </tr>\n",
              "    <tr>\n",
              "      <th>672</th>\n",
              "      <td>Bettahalsoor</td>\n",
              "      <td>4 Bedroom</td>\n",
              "      <td>3090 - 5002</td>\n",
              "      <td>4.0</td>\n",
              "      <td>445.000</td>\n",
              "      <td>4</td>\n",
              "    </tr>\n",
              "  </tbody>\n",
              "</table>\n",
              "</div>\n",
              "      <button class=\"colab-df-convert\" onclick=\"convertToInteractive('df-cfaadd55-a16b-4d0c-b34f-beb2681a7489')\"\n",
              "              title=\"Convert this dataframe to an interactive table.\"\n",
              "              style=\"display:none;\">\n",
              "        \n",
              "  <svg xmlns=\"http://www.w3.org/2000/svg\" height=\"24px\"viewBox=\"0 0 24 24\"\n",
              "       width=\"24px\">\n",
              "    <path d=\"M0 0h24v24H0V0z\" fill=\"none\"/>\n",
              "    <path d=\"M18.56 5.44l.94 2.06.94-2.06 2.06-.94-2.06-.94-.94-2.06-.94 2.06-2.06.94zm-11 1L8.5 8.5l.94-2.06 2.06-.94-2.06-.94L8.5 2.5l-.94 2.06-2.06.94zm10 10l.94 2.06.94-2.06 2.06-.94-2.06-.94-.94-2.06-.94 2.06-2.06.94z\"/><path d=\"M17.41 7.96l-1.37-1.37c-.4-.4-.92-.59-1.43-.59-.52 0-1.04.2-1.43.59L10.3 9.45l-7.72 7.72c-.78.78-.78 2.05 0 2.83L4 21.41c.39.39.9.59 1.41.59.51 0 1.02-.2 1.41-.59l7.78-7.78 2.81-2.81c.8-.78.8-2.07 0-2.86zM5.41 20L4 18.59l7.72-7.72 1.47 1.35L5.41 20z\"/>\n",
              "  </svg>\n",
              "      </button>\n",
              "      \n",
              "  <style>\n",
              "    .colab-df-container {\n",
              "      display:flex;\n",
              "      flex-wrap:wrap;\n",
              "      gap: 12px;\n",
              "    }\n",
              "\n",
              "    .colab-df-convert {\n",
              "      background-color: #E8F0FE;\n",
              "      border: none;\n",
              "      border-radius: 50%;\n",
              "      cursor: pointer;\n",
              "      display: none;\n",
              "      fill: #1967D2;\n",
              "      height: 32px;\n",
              "      padding: 0 0 0 0;\n",
              "      width: 32px;\n",
              "    }\n",
              "\n",
              "    .colab-df-convert:hover {\n",
              "      background-color: #E2EBFA;\n",
              "      box-shadow: 0px 1px 2px rgba(60, 64, 67, 0.3), 0px 1px 3px 1px rgba(60, 64, 67, 0.15);\n",
              "      fill: #174EA6;\n",
              "    }\n",
              "\n",
              "    [theme=dark] .colab-df-convert {\n",
              "      background-color: #3B4455;\n",
              "      fill: #D2E3FC;\n",
              "    }\n",
              "\n",
              "    [theme=dark] .colab-df-convert:hover {\n",
              "      background-color: #434B5C;\n",
              "      box-shadow: 0px 1px 3px 1px rgba(0, 0, 0, 0.15);\n",
              "      filter: drop-shadow(0px 1px 2px rgba(0, 0, 0, 0.3));\n",
              "      fill: #FFFFFF;\n",
              "    }\n",
              "  </style>\n",
              "\n",
              "      <script>\n",
              "        const buttonEl =\n",
              "          document.querySelector('#df-cfaadd55-a16b-4d0c-b34f-beb2681a7489 button.colab-df-convert');\n",
              "        buttonEl.style.display =\n",
              "          google.colab.kernel.accessAllowed ? 'block' : 'none';\n",
              "\n",
              "        async function convertToInteractive(key) {\n",
              "          const element = document.querySelector('#df-cfaadd55-a16b-4d0c-b34f-beb2681a7489');\n",
              "          const dataTable =\n",
              "            await google.colab.kernel.invokeFunction('convertToInteractive',\n",
              "                                                     [key], {});\n",
              "          if (!dataTable) return;\n",
              "\n",
              "          const docLinkHtml = 'Like what you see? Visit the ' +\n",
              "            '<a target=\"_blank\" href=https://colab.research.google.com/notebooks/data_table.ipynb>data table notebook</a>'\n",
              "            + ' to learn more about interactive tables.';\n",
              "          element.innerHTML = '';\n",
              "          dataTable['output_type'] = 'display_data';\n",
              "          await google.colab.output.renderOutput(dataTable, element);\n",
              "          const docLink = document.createElement('div');\n",
              "          docLink.innerHTML = docLinkHtml;\n",
              "          element.appendChild(docLink);\n",
              "        }\n",
              "      </script>\n",
              "    </div>\n",
              "  </div>\n",
              "  "
            ]
          },
          "metadata": {},
          "execution_count": 18
        }
      ]
    },
    {
      "cell_type": "markdown",
      "source": [
        "Above shows that total_sqft can be a range (e.g. 2100-2850). For such case we can just take average of min and max value in the range. There are other cases such as 34.46Sq. Meter which one can convert to square ft using unit conversion. I am going to just drop such corner cases to keep things simple"
      ],
      "metadata": {
        "id": "ZPiaWt3_-Aeq"
      }
    },
    {
      "cell_type": "code",
      "source": [
        "def convert_sqft_to_num(x):\n",
        "    tokens = x.split('-')\n",
        "    if len(tokens) == 2:\n",
        "        return (float(tokens[0])+float(tokens[1]))/2\n",
        "    try:\n",
        "        return float(x)\n",
        "    except:\n",
        "        return None"
      ],
      "metadata": {
        "id": "SPncC0xY97M2"
      },
      "execution_count": 19,
      "outputs": []
    },
    {
      "cell_type": "code",
      "source": [
        "df = data.copy()"
      ],
      "metadata": {
        "id": "XQnhWbYKaXlZ"
      },
      "execution_count": 20,
      "outputs": []
    },
    {
      "cell_type": "code",
      "source": [
        "df.total_sqft = df.total_sqft.apply(convert_sqft_to_num)\n",
        "df = df[df.total_sqft.notnull()]\n",
        "df.head(2)"
      ],
      "metadata": {
        "id": "hdf0RB-u-VP-",
        "colab": {
          "base_uri": "https://localhost:8080/",
          "height": 112
        },
        "outputId": "f9a64465-c24d-4130-9a53-91d19543844c"
      },
      "execution_count": 21,
      "outputs": [
        {
          "output_type": "execute_result",
          "data": {
            "text/plain": [
              "                   location       size  total_sqft  bath   price  BHK\n",
              "0  Electronic City Phase II      2 BHK      1056.0   2.0   39.07    2\n",
              "1          Chikka Tirupathi  4 Bedroom      2600.0   5.0  120.00    4"
            ],
            "text/html": [
              "\n",
              "  <div id=\"df-dd056849-435d-41aa-9de1-369a27fae124\">\n",
              "    <div class=\"colab-df-container\">\n",
              "      <div>\n",
              "<style scoped>\n",
              "    .dataframe tbody tr th:only-of-type {\n",
              "        vertical-align: middle;\n",
              "    }\n",
              "\n",
              "    .dataframe tbody tr th {\n",
              "        vertical-align: top;\n",
              "    }\n",
              "\n",
              "    .dataframe thead th {\n",
              "        text-align: right;\n",
              "    }\n",
              "</style>\n",
              "<table border=\"1\" class=\"dataframe\">\n",
              "  <thead>\n",
              "    <tr style=\"text-align: right;\">\n",
              "      <th></th>\n",
              "      <th>location</th>\n",
              "      <th>size</th>\n",
              "      <th>total_sqft</th>\n",
              "      <th>bath</th>\n",
              "      <th>price</th>\n",
              "      <th>BHK</th>\n",
              "    </tr>\n",
              "  </thead>\n",
              "  <tbody>\n",
              "    <tr>\n",
              "      <th>0</th>\n",
              "      <td>Electronic City Phase II</td>\n",
              "      <td>2 BHK</td>\n",
              "      <td>1056.0</td>\n",
              "      <td>2.0</td>\n",
              "      <td>39.07</td>\n",
              "      <td>2</td>\n",
              "    </tr>\n",
              "    <tr>\n",
              "      <th>1</th>\n",
              "      <td>Chikka Tirupathi</td>\n",
              "      <td>4 Bedroom</td>\n",
              "      <td>2600.0</td>\n",
              "      <td>5.0</td>\n",
              "      <td>120.00</td>\n",
              "      <td>4</td>\n",
              "    </tr>\n",
              "  </tbody>\n",
              "</table>\n",
              "</div>\n",
              "      <button class=\"colab-df-convert\" onclick=\"convertToInteractive('df-dd056849-435d-41aa-9de1-369a27fae124')\"\n",
              "              title=\"Convert this dataframe to an interactive table.\"\n",
              "              style=\"display:none;\">\n",
              "        \n",
              "  <svg xmlns=\"http://www.w3.org/2000/svg\" height=\"24px\"viewBox=\"0 0 24 24\"\n",
              "       width=\"24px\">\n",
              "    <path d=\"M0 0h24v24H0V0z\" fill=\"none\"/>\n",
              "    <path d=\"M18.56 5.44l.94 2.06.94-2.06 2.06-.94-2.06-.94-.94-2.06-.94 2.06-2.06.94zm-11 1L8.5 8.5l.94-2.06 2.06-.94-2.06-.94L8.5 2.5l-.94 2.06-2.06.94zm10 10l.94 2.06.94-2.06 2.06-.94-2.06-.94-.94-2.06-.94 2.06-2.06.94z\"/><path d=\"M17.41 7.96l-1.37-1.37c-.4-.4-.92-.59-1.43-.59-.52 0-1.04.2-1.43.59L10.3 9.45l-7.72 7.72c-.78.78-.78 2.05 0 2.83L4 21.41c.39.39.9.59 1.41.59.51 0 1.02-.2 1.41-.59l7.78-7.78 2.81-2.81c.8-.78.8-2.07 0-2.86zM5.41 20L4 18.59l7.72-7.72 1.47 1.35L5.41 20z\"/>\n",
              "  </svg>\n",
              "      </button>\n",
              "      \n",
              "  <style>\n",
              "    .colab-df-container {\n",
              "      display:flex;\n",
              "      flex-wrap:wrap;\n",
              "      gap: 12px;\n",
              "    }\n",
              "\n",
              "    .colab-df-convert {\n",
              "      background-color: #E8F0FE;\n",
              "      border: none;\n",
              "      border-radius: 50%;\n",
              "      cursor: pointer;\n",
              "      display: none;\n",
              "      fill: #1967D2;\n",
              "      height: 32px;\n",
              "      padding: 0 0 0 0;\n",
              "      width: 32px;\n",
              "    }\n",
              "\n",
              "    .colab-df-convert:hover {\n",
              "      background-color: #E2EBFA;\n",
              "      box-shadow: 0px 1px 2px rgba(60, 64, 67, 0.3), 0px 1px 3px 1px rgba(60, 64, 67, 0.15);\n",
              "      fill: #174EA6;\n",
              "    }\n",
              "\n",
              "    [theme=dark] .colab-df-convert {\n",
              "      background-color: #3B4455;\n",
              "      fill: #D2E3FC;\n",
              "    }\n",
              "\n",
              "    [theme=dark] .colab-df-convert:hover {\n",
              "      background-color: #434B5C;\n",
              "      box-shadow: 0px 1px 3px 1px rgba(0, 0, 0, 0.15);\n",
              "      filter: drop-shadow(0px 1px 2px rgba(0, 0, 0, 0.3));\n",
              "      fill: #FFFFFF;\n",
              "    }\n",
              "  </style>\n",
              "\n",
              "      <script>\n",
              "        const buttonEl =\n",
              "          document.querySelector('#df-dd056849-435d-41aa-9de1-369a27fae124 button.colab-df-convert');\n",
              "        buttonEl.style.display =\n",
              "          google.colab.kernel.accessAllowed ? 'block' : 'none';\n",
              "\n",
              "        async function convertToInteractive(key) {\n",
              "          const element = document.querySelector('#df-dd056849-435d-41aa-9de1-369a27fae124');\n",
              "          const dataTable =\n",
              "            await google.colab.kernel.invokeFunction('convertToInteractive',\n",
              "                                                     [key], {});\n",
              "          if (!dataTable) return;\n",
              "\n",
              "          const docLinkHtml = 'Like what you see? Visit the ' +\n",
              "            '<a target=\"_blank\" href=https://colab.research.google.com/notebooks/data_table.ipynb>data table notebook</a>'\n",
              "            + ' to learn more about interactive tables.';\n",
              "          element.innerHTML = '';\n",
              "          dataTable['output_type'] = 'display_data';\n",
              "          await google.colab.output.renderOutput(dataTable, element);\n",
              "          const docLink = document.createElement('div');\n",
              "          docLink.innerHTML = docLinkHtml;\n",
              "          element.appendChild(docLink);\n",
              "        }\n",
              "      </script>\n",
              "    </div>\n",
              "  </div>\n",
              "  "
            ]
          },
          "metadata": {},
          "execution_count": 21
        }
      ]
    },
    {
      "cell_type": "code",
      "source": [
        ""
      ],
      "metadata": {
        "id": "6ielLS7iasuo"
      },
      "execution_count": null,
      "outputs": []
    },
    {
      "cell_type": "markdown",
      "source": [
        "#### Feature Engineering\n",
        "**Add new feature called price per square feet**"
      ],
      "metadata": {
        "id": "tl8mulXCa1mE"
      }
    },
    {
      "cell_type": "code",
      "source": [
        "df2 = df.copy()"
      ],
      "metadata": {
        "id": "QAPkKSnAa1Pc"
      },
      "execution_count": 22,
      "outputs": []
    },
    {
      "cell_type": "code",
      "source": [
        "df2['price_per_sqft'] = df['price']*100000/df['total_sqft']\n",
        "df2.head()"
      ],
      "metadata": {
        "colab": {
          "base_uri": "https://localhost:8080/",
          "height": 206
        },
        "id": "tDzIfWgNbgSt",
        "outputId": "f370dc00-0cf6-43c7-8c0f-82ae86946d71"
      },
      "execution_count": 23,
      "outputs": [
        {
          "output_type": "execute_result",
          "data": {
            "text/plain": [
              "                   location       size  total_sqft  bath   price  BHK  \\\n",
              "0  Electronic City Phase II      2 BHK      1056.0   2.0   39.07    2   \n",
              "1          Chikka Tirupathi  4 Bedroom      2600.0   5.0  120.00    4   \n",
              "2               Uttarahalli      3 BHK      1440.0   2.0   62.00    3   \n",
              "3        Lingadheeranahalli      3 BHK      1521.0   3.0   95.00    3   \n",
              "4                  Kothanur      2 BHK      1200.0   2.0   51.00    2   \n",
              "\n",
              "   price_per_sqft  \n",
              "0     3699.810606  \n",
              "1     4615.384615  \n",
              "2     4305.555556  \n",
              "3     6245.890861  \n",
              "4     4250.000000  "
            ],
            "text/html": [
              "\n",
              "  <div id=\"df-6e5edddf-761d-4c65-857d-fbdb6d0af7ac\">\n",
              "    <div class=\"colab-df-container\">\n",
              "      <div>\n",
              "<style scoped>\n",
              "    .dataframe tbody tr th:only-of-type {\n",
              "        vertical-align: middle;\n",
              "    }\n",
              "\n",
              "    .dataframe tbody tr th {\n",
              "        vertical-align: top;\n",
              "    }\n",
              "\n",
              "    .dataframe thead th {\n",
              "        text-align: right;\n",
              "    }\n",
              "</style>\n",
              "<table border=\"1\" class=\"dataframe\">\n",
              "  <thead>\n",
              "    <tr style=\"text-align: right;\">\n",
              "      <th></th>\n",
              "      <th>location</th>\n",
              "      <th>size</th>\n",
              "      <th>total_sqft</th>\n",
              "      <th>bath</th>\n",
              "      <th>price</th>\n",
              "      <th>BHK</th>\n",
              "      <th>price_per_sqft</th>\n",
              "    </tr>\n",
              "  </thead>\n",
              "  <tbody>\n",
              "    <tr>\n",
              "      <th>0</th>\n",
              "      <td>Electronic City Phase II</td>\n",
              "      <td>2 BHK</td>\n",
              "      <td>1056.0</td>\n",
              "      <td>2.0</td>\n",
              "      <td>39.07</td>\n",
              "      <td>2</td>\n",
              "      <td>3699.810606</td>\n",
              "    </tr>\n",
              "    <tr>\n",
              "      <th>1</th>\n",
              "      <td>Chikka Tirupathi</td>\n",
              "      <td>4 Bedroom</td>\n",
              "      <td>2600.0</td>\n",
              "      <td>5.0</td>\n",
              "      <td>120.00</td>\n",
              "      <td>4</td>\n",
              "      <td>4615.384615</td>\n",
              "    </tr>\n",
              "    <tr>\n",
              "      <th>2</th>\n",
              "      <td>Uttarahalli</td>\n",
              "      <td>3 BHK</td>\n",
              "      <td>1440.0</td>\n",
              "      <td>2.0</td>\n",
              "      <td>62.00</td>\n",
              "      <td>3</td>\n",
              "      <td>4305.555556</td>\n",
              "    </tr>\n",
              "    <tr>\n",
              "      <th>3</th>\n",
              "      <td>Lingadheeranahalli</td>\n",
              "      <td>3 BHK</td>\n",
              "      <td>1521.0</td>\n",
              "      <td>3.0</td>\n",
              "      <td>95.00</td>\n",
              "      <td>3</td>\n",
              "      <td>6245.890861</td>\n",
              "    </tr>\n",
              "    <tr>\n",
              "      <th>4</th>\n",
              "      <td>Kothanur</td>\n",
              "      <td>2 BHK</td>\n",
              "      <td>1200.0</td>\n",
              "      <td>2.0</td>\n",
              "      <td>51.00</td>\n",
              "      <td>2</td>\n",
              "      <td>4250.000000</td>\n",
              "    </tr>\n",
              "  </tbody>\n",
              "</table>\n",
              "</div>\n",
              "      <button class=\"colab-df-convert\" onclick=\"convertToInteractive('df-6e5edddf-761d-4c65-857d-fbdb6d0af7ac')\"\n",
              "              title=\"Convert this dataframe to an interactive table.\"\n",
              "              style=\"display:none;\">\n",
              "        \n",
              "  <svg xmlns=\"http://www.w3.org/2000/svg\" height=\"24px\"viewBox=\"0 0 24 24\"\n",
              "       width=\"24px\">\n",
              "    <path d=\"M0 0h24v24H0V0z\" fill=\"none\"/>\n",
              "    <path d=\"M18.56 5.44l.94 2.06.94-2.06 2.06-.94-2.06-.94-.94-2.06-.94 2.06-2.06.94zm-11 1L8.5 8.5l.94-2.06 2.06-.94-2.06-.94L8.5 2.5l-.94 2.06-2.06.94zm10 10l.94 2.06.94-2.06 2.06-.94-2.06-.94-.94-2.06-.94 2.06-2.06.94z\"/><path d=\"M17.41 7.96l-1.37-1.37c-.4-.4-.92-.59-1.43-.59-.52 0-1.04.2-1.43.59L10.3 9.45l-7.72 7.72c-.78.78-.78 2.05 0 2.83L4 21.41c.39.39.9.59 1.41.59.51 0 1.02-.2 1.41-.59l7.78-7.78 2.81-2.81c.8-.78.8-2.07 0-2.86zM5.41 20L4 18.59l7.72-7.72 1.47 1.35L5.41 20z\"/>\n",
              "  </svg>\n",
              "      </button>\n",
              "      \n",
              "  <style>\n",
              "    .colab-df-container {\n",
              "      display:flex;\n",
              "      flex-wrap:wrap;\n",
              "      gap: 12px;\n",
              "    }\n",
              "\n",
              "    .colab-df-convert {\n",
              "      background-color: #E8F0FE;\n",
              "      border: none;\n",
              "      border-radius: 50%;\n",
              "      cursor: pointer;\n",
              "      display: none;\n",
              "      fill: #1967D2;\n",
              "      height: 32px;\n",
              "      padding: 0 0 0 0;\n",
              "      width: 32px;\n",
              "    }\n",
              "\n",
              "    .colab-df-convert:hover {\n",
              "      background-color: #E2EBFA;\n",
              "      box-shadow: 0px 1px 2px rgba(60, 64, 67, 0.3), 0px 1px 3px 1px rgba(60, 64, 67, 0.15);\n",
              "      fill: #174EA6;\n",
              "    }\n",
              "\n",
              "    [theme=dark] .colab-df-convert {\n",
              "      background-color: #3B4455;\n",
              "      fill: #D2E3FC;\n",
              "    }\n",
              "\n",
              "    [theme=dark] .colab-df-convert:hover {\n",
              "      background-color: #434B5C;\n",
              "      box-shadow: 0px 1px 3px 1px rgba(0, 0, 0, 0.15);\n",
              "      filter: drop-shadow(0px 1px 2px rgba(0, 0, 0, 0.3));\n",
              "      fill: #FFFFFF;\n",
              "    }\n",
              "  </style>\n",
              "\n",
              "      <script>\n",
              "        const buttonEl =\n",
              "          document.querySelector('#df-6e5edddf-761d-4c65-857d-fbdb6d0af7ac button.colab-df-convert');\n",
              "        buttonEl.style.display =\n",
              "          google.colab.kernel.accessAllowed ? 'block' : 'none';\n",
              "\n",
              "        async function convertToInteractive(key) {\n",
              "          const element = document.querySelector('#df-6e5edddf-761d-4c65-857d-fbdb6d0af7ac');\n",
              "          const dataTable =\n",
              "            await google.colab.kernel.invokeFunction('convertToInteractive',\n",
              "                                                     [key], {});\n",
              "          if (!dataTable) return;\n",
              "\n",
              "          const docLinkHtml = 'Like what you see? Visit the ' +\n",
              "            '<a target=\"_blank\" href=https://colab.research.google.com/notebooks/data_table.ipynb>data table notebook</a>'\n",
              "            + ' to learn more about interactive tables.';\n",
              "          element.innerHTML = '';\n",
              "          dataTable['output_type'] = 'display_data';\n",
              "          await google.colab.output.renderOutput(dataTable, element);\n",
              "          const docLink = document.createElement('div');\n",
              "          docLink.innerHTML = docLinkHtml;\n",
              "          element.appendChild(docLink);\n",
              "        }\n",
              "      </script>\n",
              "    </div>\n",
              "  </div>\n",
              "  "
            ]
          },
          "metadata": {},
          "execution_count": 23
        }
      ]
    },
    {
      "cell_type": "code",
      "source": [
        "df2['price_per_sqft'].describe()"
      ],
      "metadata": {
        "colab": {
          "base_uri": "https://localhost:8080/"
        },
        "id": "Wp6mUiPebjKM",
        "outputId": "3d059b81-1a5c-4d5b-e623-5964d5dd5214"
      },
      "execution_count": 25,
      "outputs": [
        {
          "output_type": "execute_result",
          "data": {
            "text/plain": [
              "count    1.320000e+04\n",
              "mean     7.920759e+03\n",
              "std      1.067272e+05\n",
              "min      2.678298e+02\n",
              "25%      4.267701e+03\n",
              "50%      5.438331e+03\n",
              "75%      7.317073e+03\n",
              "max      1.200000e+07\n",
              "Name: price_per_sqft, dtype: float64"
            ]
          },
          "metadata": {},
          "execution_count": 25
        }
      ]
    },
    {
      "cell_type": "code",
      "source": [
        "df2.to_csv(\"BHP.csv\",index=False)"
      ],
      "metadata": {
        "id": "uTIq5CYCbppP"
      },
      "execution_count": 26,
      "outputs": []
    },
    {
      "cell_type": "code",
      "source": [
        ""
      ],
      "metadata": {
        "id": "iRTRsQuNbx-N"
      },
      "execution_count": null,
      "outputs": []
    },
    {
      "cell_type": "markdown",
      "source": [
        "Examine locations which is a categorical variable. We need to apply dimensionality reduction technique here to reduce number of locations"
      ],
      "metadata": {
        "id": "v3CZdzGzb2Nv"
      }
    },
    {
      "cell_type": "code",
      "source": [
        "df2.location = df2.location.apply(lambda x: x.strip())"
      ],
      "metadata": {
        "id": "jxBSeNKob3sE"
      },
      "execution_count": 27,
      "outputs": []
    },
    {
      "cell_type": "code",
      "source": [
        "loc = df2['location'].value_counts(ascending=False)"
      ],
      "metadata": {
        "id": "Re4itxLjcCyH"
      },
      "execution_count": 32,
      "outputs": []
    },
    {
      "cell_type": "code",
      "source": [
        "loc"
      ],
      "metadata": {
        "colab": {
          "base_uri": "https://localhost:8080/"
        },
        "id": "4fETE8BycDO0",
        "outputId": "212dc84c-a227-4f06-be7d-bfe47620b51b"
      },
      "execution_count": 33,
      "outputs": [
        {
          "output_type": "execute_result",
          "data": {
            "text/plain": [
              "Whitefield                   533\n",
              "Sarjapur  Road               392\n",
              "Electronic City              304\n",
              "Kanakpura Road               264\n",
              "Thanisandra                  235\n",
              "                            ... \n",
              "Rajanna Layout                 1\n",
              "Subramanyanagar                1\n",
              "Lakshmipura Vidyaanyapura      1\n",
              "Malur Hosur Road               1\n",
              "Abshot Layout                  1\n",
              "Name: location, Length: 1287, dtype: int64"
            ]
          },
          "metadata": {},
          "execution_count": 33
        }
      ]
    },
    {
      "cell_type": "code",
      "source": [
        "loc.values.sum()"
      ],
      "metadata": {
        "colab": {
          "base_uri": "https://localhost:8080/"
        },
        "id": "ekrCAQrVcGpw",
        "outputId": "e0f20e35-0f05-4708-febd-bc0963771eed"
      },
      "execution_count": 34,
      "outputs": [
        {
          "output_type": "execute_result",
          "data": {
            "text/plain": [
              "13200"
            ]
          },
          "metadata": {},
          "execution_count": 34
        }
      ]
    },
    {
      "cell_type": "code",
      "source": [
        "len(loc[loc>10])"
      ],
      "metadata": {
        "colab": {
          "base_uri": "https://localhost:8080/"
        },
        "id": "kzJNbDhYcTUr",
        "outputId": "ac736377-9ec7-4cc9-b10f-bfa208c43798"
      },
      "execution_count": 36,
      "outputs": [
        {
          "output_type": "execute_result",
          "data": {
            "text/plain": [
              "240"
            ]
          },
          "metadata": {},
          "execution_count": 36
        }
      ]
    },
    {
      "cell_type": "code",
      "source": [
        "len(loc)"
      ],
      "metadata": {
        "colab": {
          "base_uri": "https://localhost:8080/"
        },
        "id": "xTqJ3WMecX0i",
        "outputId": "3811d8b0-28e1-4ae5-cf06-4d2de5285236"
      },
      "execution_count": 39,
      "outputs": [
        {
          "output_type": "execute_result",
          "data": {
            "text/plain": [
              "1287"
            ]
          },
          "metadata": {},
          "execution_count": 39
        }
      ]
    },
    {
      "cell_type": "markdown",
      "source": [
        "### Dimensionality Reduction\n",
        "Any location having less than 10 data points should be tagged as \"other\" location. This way number of categories can be reduced by huge amount. Later on when we do one hot encoding, it will help us with having fewer dummy columns"
      ],
      "metadata": {
        "id": "B13hdOYrconc"
      }
    },
    {
      "cell_type": "code",
      "source": [
        "loc_less_than_10 = loc[loc<=10]\n",
        "loc_less_than_10"
      ],
      "metadata": {
        "colab": {
          "base_uri": "https://localhost:8080/"
        },
        "id": "eDauIwK4cfYI",
        "outputId": "dd3f6d1d-6ff0-4d42-9ca9-8c80c6604e0a"
      },
      "execution_count": 40,
      "outputs": [
        {
          "output_type": "execute_result",
          "data": {
            "text/plain": [
              "BTM 1st Stage                10\n",
              "Gunjur Palya                 10\n",
              "Nagappa Reddy Layout         10\n",
              "Sector 1 HSR Layout          10\n",
              "Thyagaraja Nagar             10\n",
              "                             ..\n",
              "Rajanna Layout                1\n",
              "Subramanyanagar               1\n",
              "Lakshmipura Vidyaanyapura     1\n",
              "Malur Hosur Road              1\n",
              "Abshot Layout                 1\n",
              "Name: location, Length: 1047, dtype: int64"
            ]
          },
          "metadata": {},
          "execution_count": 40
        }
      ]
    },
    {
      "cell_type": "code",
      "source": [
        "df2.location = df2.location.apply(lambda x: 'other' if x in loc_less_than_10 else x)\n"
      ],
      "metadata": {
        "id": "qtwXkI01c9F9"
      },
      "execution_count": 41,
      "outputs": []
    },
    {
      "cell_type": "code",
      "source": [
        "len(df2.location.unique())"
      ],
      "metadata": {
        "colab": {
          "base_uri": "https://localhost:8080/"
        },
        "id": "6oSGfcu1dMRk",
        "outputId": "e825f55f-f362-46e2-c81d-78d72bfc9b99"
      },
      "execution_count": 42,
      "outputs": [
        {
          "output_type": "execute_result",
          "data": {
            "text/plain": [
              "241"
            ]
          },
          "metadata": {},
          "execution_count": 42
        }
      ]
    },
    {
      "cell_type": "code",
      "source": [
        "df2.head(10)"
      ],
      "metadata": {
        "colab": {
          "base_uri": "https://localhost:8080/",
          "height": 363
        },
        "id": "rO6v6OfcdMrn",
        "outputId": "6d1b3369-cf37-4edb-9a98-8c65a45371d2"
      },
      "execution_count": 43,
      "outputs": [
        {
          "output_type": "execute_result",
          "data": {
            "text/plain": [
              "                   location       size  total_sqft  bath   price  BHK  \\\n",
              "0  Electronic City Phase II      2 BHK      1056.0   2.0   39.07    2   \n",
              "1          Chikka Tirupathi  4 Bedroom      2600.0   5.0  120.00    4   \n",
              "2               Uttarahalli      3 BHK      1440.0   2.0   62.00    3   \n",
              "3        Lingadheeranahalli      3 BHK      1521.0   3.0   95.00    3   \n",
              "4                  Kothanur      2 BHK      1200.0   2.0   51.00    2   \n",
              "5                Whitefield      2 BHK      1170.0   2.0   38.00    2   \n",
              "6          Old Airport Road      4 BHK      2732.0   4.0  204.00    4   \n",
              "7              Rajaji Nagar      4 BHK      3300.0   4.0  600.00    4   \n",
              "8              Marathahalli      3 BHK      1310.0   3.0   63.25    3   \n",
              "9                     other  6 Bedroom      1020.0   6.0  370.00    6   \n",
              "\n",
              "   price_per_sqft  \n",
              "0     3699.810606  \n",
              "1     4615.384615  \n",
              "2     4305.555556  \n",
              "3     6245.890861  \n",
              "4     4250.000000  \n",
              "5     3247.863248  \n",
              "6     7467.057101  \n",
              "7    18181.818182  \n",
              "8     4828.244275  \n",
              "9    36274.509804  "
            ],
            "text/html": [
              "\n",
              "  <div id=\"df-ddbc8720-1ec1-49f3-98a0-5cf362e24b38\">\n",
              "    <div class=\"colab-df-container\">\n",
              "      <div>\n",
              "<style scoped>\n",
              "    .dataframe tbody tr th:only-of-type {\n",
              "        vertical-align: middle;\n",
              "    }\n",
              "\n",
              "    .dataframe tbody tr th {\n",
              "        vertical-align: top;\n",
              "    }\n",
              "\n",
              "    .dataframe thead th {\n",
              "        text-align: right;\n",
              "    }\n",
              "</style>\n",
              "<table border=\"1\" class=\"dataframe\">\n",
              "  <thead>\n",
              "    <tr style=\"text-align: right;\">\n",
              "      <th></th>\n",
              "      <th>location</th>\n",
              "      <th>size</th>\n",
              "      <th>total_sqft</th>\n",
              "      <th>bath</th>\n",
              "      <th>price</th>\n",
              "      <th>BHK</th>\n",
              "      <th>price_per_sqft</th>\n",
              "    </tr>\n",
              "  </thead>\n",
              "  <tbody>\n",
              "    <tr>\n",
              "      <th>0</th>\n",
              "      <td>Electronic City Phase II</td>\n",
              "      <td>2 BHK</td>\n",
              "      <td>1056.0</td>\n",
              "      <td>2.0</td>\n",
              "      <td>39.07</td>\n",
              "      <td>2</td>\n",
              "      <td>3699.810606</td>\n",
              "    </tr>\n",
              "    <tr>\n",
              "      <th>1</th>\n",
              "      <td>Chikka Tirupathi</td>\n",
              "      <td>4 Bedroom</td>\n",
              "      <td>2600.0</td>\n",
              "      <td>5.0</td>\n",
              "      <td>120.00</td>\n",
              "      <td>4</td>\n",
              "      <td>4615.384615</td>\n",
              "    </tr>\n",
              "    <tr>\n",
              "      <th>2</th>\n",
              "      <td>Uttarahalli</td>\n",
              "      <td>3 BHK</td>\n",
              "      <td>1440.0</td>\n",
              "      <td>2.0</td>\n",
              "      <td>62.00</td>\n",
              "      <td>3</td>\n",
              "      <td>4305.555556</td>\n",
              "    </tr>\n",
              "    <tr>\n",
              "      <th>3</th>\n",
              "      <td>Lingadheeranahalli</td>\n",
              "      <td>3 BHK</td>\n",
              "      <td>1521.0</td>\n",
              "      <td>3.0</td>\n",
              "      <td>95.00</td>\n",
              "      <td>3</td>\n",
              "      <td>6245.890861</td>\n",
              "    </tr>\n",
              "    <tr>\n",
              "      <th>4</th>\n",
              "      <td>Kothanur</td>\n",
              "      <td>2 BHK</td>\n",
              "      <td>1200.0</td>\n",
              "      <td>2.0</td>\n",
              "      <td>51.00</td>\n",
              "      <td>2</td>\n",
              "      <td>4250.000000</td>\n",
              "    </tr>\n",
              "    <tr>\n",
              "      <th>5</th>\n",
              "      <td>Whitefield</td>\n",
              "      <td>2 BHK</td>\n",
              "      <td>1170.0</td>\n",
              "      <td>2.0</td>\n",
              "      <td>38.00</td>\n",
              "      <td>2</td>\n",
              "      <td>3247.863248</td>\n",
              "    </tr>\n",
              "    <tr>\n",
              "      <th>6</th>\n",
              "      <td>Old Airport Road</td>\n",
              "      <td>4 BHK</td>\n",
              "      <td>2732.0</td>\n",
              "      <td>4.0</td>\n",
              "      <td>204.00</td>\n",
              "      <td>4</td>\n",
              "      <td>7467.057101</td>\n",
              "    </tr>\n",
              "    <tr>\n",
              "      <th>7</th>\n",
              "      <td>Rajaji Nagar</td>\n",
              "      <td>4 BHK</td>\n",
              "      <td>3300.0</td>\n",
              "      <td>4.0</td>\n",
              "      <td>600.00</td>\n",
              "      <td>4</td>\n",
              "      <td>18181.818182</td>\n",
              "    </tr>\n",
              "    <tr>\n",
              "      <th>8</th>\n",
              "      <td>Marathahalli</td>\n",
              "      <td>3 BHK</td>\n",
              "      <td>1310.0</td>\n",
              "      <td>3.0</td>\n",
              "      <td>63.25</td>\n",
              "      <td>3</td>\n",
              "      <td>4828.244275</td>\n",
              "    </tr>\n",
              "    <tr>\n",
              "      <th>9</th>\n",
              "      <td>other</td>\n",
              "      <td>6 Bedroom</td>\n",
              "      <td>1020.0</td>\n",
              "      <td>6.0</td>\n",
              "      <td>370.00</td>\n",
              "      <td>6</td>\n",
              "      <td>36274.509804</td>\n",
              "    </tr>\n",
              "  </tbody>\n",
              "</table>\n",
              "</div>\n",
              "      <button class=\"colab-df-convert\" onclick=\"convertToInteractive('df-ddbc8720-1ec1-49f3-98a0-5cf362e24b38')\"\n",
              "              title=\"Convert this dataframe to an interactive table.\"\n",
              "              style=\"display:none;\">\n",
              "        \n",
              "  <svg xmlns=\"http://www.w3.org/2000/svg\" height=\"24px\"viewBox=\"0 0 24 24\"\n",
              "       width=\"24px\">\n",
              "    <path d=\"M0 0h24v24H0V0z\" fill=\"none\"/>\n",
              "    <path d=\"M18.56 5.44l.94 2.06.94-2.06 2.06-.94-2.06-.94-.94-2.06-.94 2.06-2.06.94zm-11 1L8.5 8.5l.94-2.06 2.06-.94-2.06-.94L8.5 2.5l-.94 2.06-2.06.94zm10 10l.94 2.06.94-2.06 2.06-.94-2.06-.94-.94-2.06-.94 2.06-2.06.94z\"/><path d=\"M17.41 7.96l-1.37-1.37c-.4-.4-.92-.59-1.43-.59-.52 0-1.04.2-1.43.59L10.3 9.45l-7.72 7.72c-.78.78-.78 2.05 0 2.83L4 21.41c.39.39.9.59 1.41.59.51 0 1.02-.2 1.41-.59l7.78-7.78 2.81-2.81c.8-.78.8-2.07 0-2.86zM5.41 20L4 18.59l7.72-7.72 1.47 1.35L5.41 20z\"/>\n",
              "  </svg>\n",
              "      </button>\n",
              "      \n",
              "  <style>\n",
              "    .colab-df-container {\n",
              "      display:flex;\n",
              "      flex-wrap:wrap;\n",
              "      gap: 12px;\n",
              "    }\n",
              "\n",
              "    .colab-df-convert {\n",
              "      background-color: #E8F0FE;\n",
              "      border: none;\n",
              "      border-radius: 50%;\n",
              "      cursor: pointer;\n",
              "      display: none;\n",
              "      fill: #1967D2;\n",
              "      height: 32px;\n",
              "      padding: 0 0 0 0;\n",
              "      width: 32px;\n",
              "    }\n",
              "\n",
              "    .colab-df-convert:hover {\n",
              "      background-color: #E2EBFA;\n",
              "      box-shadow: 0px 1px 2px rgba(60, 64, 67, 0.3), 0px 1px 3px 1px rgba(60, 64, 67, 0.15);\n",
              "      fill: #174EA6;\n",
              "    }\n",
              "\n",
              "    [theme=dark] .colab-df-convert {\n",
              "      background-color: #3B4455;\n",
              "      fill: #D2E3FC;\n",
              "    }\n",
              "\n",
              "    [theme=dark] .colab-df-convert:hover {\n",
              "      background-color: #434B5C;\n",
              "      box-shadow: 0px 1px 3px 1px rgba(0, 0, 0, 0.15);\n",
              "      filter: drop-shadow(0px 1px 2px rgba(0, 0, 0, 0.3));\n",
              "      fill: #FFFFFF;\n",
              "    }\n",
              "  </style>\n",
              "\n",
              "      <script>\n",
              "        const buttonEl =\n",
              "          document.querySelector('#df-ddbc8720-1ec1-49f3-98a0-5cf362e24b38 button.colab-df-convert');\n",
              "        buttonEl.style.display =\n",
              "          google.colab.kernel.accessAllowed ? 'block' : 'none';\n",
              "\n",
              "        async function convertToInteractive(key) {\n",
              "          const element = document.querySelector('#df-ddbc8720-1ec1-49f3-98a0-5cf362e24b38');\n",
              "          const dataTable =\n",
              "            await google.colab.kernel.invokeFunction('convertToInteractive',\n",
              "                                                     [key], {});\n",
              "          if (!dataTable) return;\n",
              "\n",
              "          const docLinkHtml = 'Like what you see? Visit the ' +\n",
              "            '<a target=\"_blank\" href=https://colab.research.google.com/notebooks/data_table.ipynb>data table notebook</a>'\n",
              "            + ' to learn more about interactive tables.';\n",
              "          element.innerHTML = '';\n",
              "          dataTable['output_type'] = 'display_data';\n",
              "          await google.colab.output.renderOutput(dataTable, element);\n",
              "          const docLink = document.createElement('div');\n",
              "          docLink.innerHTML = docLinkHtml;\n",
              "          element.appendChild(docLink);\n",
              "        }\n",
              "      </script>\n",
              "    </div>\n",
              "  </div>\n",
              "  "
            ]
          },
          "metadata": {},
          "execution_count": 43
        }
      ]
    },
    {
      "cell_type": "markdown",
      "source": [
        "### Outliers Removal"
      ],
      "metadata": {
        "id": "1QNT3JgzfJQu"
      }
    },
    {
      "cell_type": "markdown",
      "source": [
        "Assuming that normally square ft per bedroom is 300 (i.e. 2 bhk apartment is minimum 600 sqft. If you have for example 400 sqft apartment with 2 bhk than that seems suspicious and can be removed as an outlier. We will remove such outliers by keeping our minimum thresold per bhk to be 300 sqft"
      ],
      "metadata": {
        "id": "W48K_pGYfLiv"
      }
    },
    {
      "cell_type": "code",
      "source": [
        "df2[df2.total_sqft/df2.BHK<300].head()"
      ],
      "metadata": {
        "colab": {
          "base_uri": "https://localhost:8080/",
          "height": 206
        },
        "id": "h55IIRNbdP_p",
        "outputId": "2732b9a1-22bc-4462-8550-3bda1101198c"
      },
      "execution_count": 45,
      "outputs": [
        {
          "output_type": "execute_result",
          "data": {
            "text/plain": [
              "               location       size  total_sqft  bath  price  BHK  \\\n",
              "9                 other  6 Bedroom      1020.0   6.0  370.0    6   \n",
              "45           HSR Layout  8 Bedroom       600.0   9.0  200.0    8   \n",
              "58        Murugeshpalya  6 Bedroom      1407.0   4.0  150.0    6   \n",
              "68  Devarachikkanahalli  8 Bedroom      1350.0   7.0   85.0    8   \n",
              "70                other  3 Bedroom       500.0   3.0  100.0    3   \n",
              "\n",
              "    price_per_sqft  \n",
              "9     36274.509804  \n",
              "45    33333.333333  \n",
              "58    10660.980810  \n",
              "68     6296.296296  \n",
              "70    20000.000000  "
            ],
            "text/html": [
              "\n",
              "  <div id=\"df-5b3712a5-0f37-4d67-b877-24d1202e176f\">\n",
              "    <div class=\"colab-df-container\">\n",
              "      <div>\n",
              "<style scoped>\n",
              "    .dataframe tbody tr th:only-of-type {\n",
              "        vertical-align: middle;\n",
              "    }\n",
              "\n",
              "    .dataframe tbody tr th {\n",
              "        vertical-align: top;\n",
              "    }\n",
              "\n",
              "    .dataframe thead th {\n",
              "        text-align: right;\n",
              "    }\n",
              "</style>\n",
              "<table border=\"1\" class=\"dataframe\">\n",
              "  <thead>\n",
              "    <tr style=\"text-align: right;\">\n",
              "      <th></th>\n",
              "      <th>location</th>\n",
              "      <th>size</th>\n",
              "      <th>total_sqft</th>\n",
              "      <th>bath</th>\n",
              "      <th>price</th>\n",
              "      <th>BHK</th>\n",
              "      <th>price_per_sqft</th>\n",
              "    </tr>\n",
              "  </thead>\n",
              "  <tbody>\n",
              "    <tr>\n",
              "      <th>9</th>\n",
              "      <td>other</td>\n",
              "      <td>6 Bedroom</td>\n",
              "      <td>1020.0</td>\n",
              "      <td>6.0</td>\n",
              "      <td>370.0</td>\n",
              "      <td>6</td>\n",
              "      <td>36274.509804</td>\n",
              "    </tr>\n",
              "    <tr>\n",
              "      <th>45</th>\n",
              "      <td>HSR Layout</td>\n",
              "      <td>8 Bedroom</td>\n",
              "      <td>600.0</td>\n",
              "      <td>9.0</td>\n",
              "      <td>200.0</td>\n",
              "      <td>8</td>\n",
              "      <td>33333.333333</td>\n",
              "    </tr>\n",
              "    <tr>\n",
              "      <th>58</th>\n",
              "      <td>Murugeshpalya</td>\n",
              "      <td>6 Bedroom</td>\n",
              "      <td>1407.0</td>\n",
              "      <td>4.0</td>\n",
              "      <td>150.0</td>\n",
              "      <td>6</td>\n",
              "      <td>10660.980810</td>\n",
              "    </tr>\n",
              "    <tr>\n",
              "      <th>68</th>\n",
              "      <td>Devarachikkanahalli</td>\n",
              "      <td>8 Bedroom</td>\n",
              "      <td>1350.0</td>\n",
              "      <td>7.0</td>\n",
              "      <td>85.0</td>\n",
              "      <td>8</td>\n",
              "      <td>6296.296296</td>\n",
              "    </tr>\n",
              "    <tr>\n",
              "      <th>70</th>\n",
              "      <td>other</td>\n",
              "      <td>3 Bedroom</td>\n",
              "      <td>500.0</td>\n",
              "      <td>3.0</td>\n",
              "      <td>100.0</td>\n",
              "      <td>3</td>\n",
              "      <td>20000.000000</td>\n",
              "    </tr>\n",
              "  </tbody>\n",
              "</table>\n",
              "</div>\n",
              "      <button class=\"colab-df-convert\" onclick=\"convertToInteractive('df-5b3712a5-0f37-4d67-b877-24d1202e176f')\"\n",
              "              title=\"Convert this dataframe to an interactive table.\"\n",
              "              style=\"display:none;\">\n",
              "        \n",
              "  <svg xmlns=\"http://www.w3.org/2000/svg\" height=\"24px\"viewBox=\"0 0 24 24\"\n",
              "       width=\"24px\">\n",
              "    <path d=\"M0 0h24v24H0V0z\" fill=\"none\"/>\n",
              "    <path d=\"M18.56 5.44l.94 2.06.94-2.06 2.06-.94-2.06-.94-.94-2.06-.94 2.06-2.06.94zm-11 1L8.5 8.5l.94-2.06 2.06-.94-2.06-.94L8.5 2.5l-.94 2.06-2.06.94zm10 10l.94 2.06.94-2.06 2.06-.94-2.06-.94-.94-2.06-.94 2.06-2.06.94z\"/><path d=\"M17.41 7.96l-1.37-1.37c-.4-.4-.92-.59-1.43-.59-.52 0-1.04.2-1.43.59L10.3 9.45l-7.72 7.72c-.78.78-.78 2.05 0 2.83L4 21.41c.39.39.9.59 1.41.59.51 0 1.02-.2 1.41-.59l7.78-7.78 2.81-2.81c.8-.78.8-2.07 0-2.86zM5.41 20L4 18.59l7.72-7.72 1.47 1.35L5.41 20z\"/>\n",
              "  </svg>\n",
              "      </button>\n",
              "      \n",
              "  <style>\n",
              "    .colab-df-container {\n",
              "      display:flex;\n",
              "      flex-wrap:wrap;\n",
              "      gap: 12px;\n",
              "    }\n",
              "\n",
              "    .colab-df-convert {\n",
              "      background-color: #E8F0FE;\n",
              "      border: none;\n",
              "      border-radius: 50%;\n",
              "      cursor: pointer;\n",
              "      display: none;\n",
              "      fill: #1967D2;\n",
              "      height: 32px;\n",
              "      padding: 0 0 0 0;\n",
              "      width: 32px;\n",
              "    }\n",
              "\n",
              "    .colab-df-convert:hover {\n",
              "      background-color: #E2EBFA;\n",
              "      box-shadow: 0px 1px 2px rgba(60, 64, 67, 0.3), 0px 1px 3px 1px rgba(60, 64, 67, 0.15);\n",
              "      fill: #174EA6;\n",
              "    }\n",
              "\n",
              "    [theme=dark] .colab-df-convert {\n",
              "      background-color: #3B4455;\n",
              "      fill: #D2E3FC;\n",
              "    }\n",
              "\n",
              "    [theme=dark] .colab-df-convert:hover {\n",
              "      background-color: #434B5C;\n",
              "      box-shadow: 0px 1px 3px 1px rgba(0, 0, 0, 0.15);\n",
              "      filter: drop-shadow(0px 1px 2px rgba(0, 0, 0, 0.3));\n",
              "      fill: #FFFFFF;\n",
              "    }\n",
              "  </style>\n",
              "\n",
              "      <script>\n",
              "        const buttonEl =\n",
              "          document.querySelector('#df-5b3712a5-0f37-4d67-b877-24d1202e176f button.colab-df-convert');\n",
              "        buttonEl.style.display =\n",
              "          google.colab.kernel.accessAllowed ? 'block' : 'none';\n",
              "\n",
              "        async function convertToInteractive(key) {\n",
              "          const element = document.querySelector('#df-5b3712a5-0f37-4d67-b877-24d1202e176f');\n",
              "          const dataTable =\n",
              "            await google.colab.kernel.invokeFunction('convertToInteractive',\n",
              "                                                     [key], {});\n",
              "          if (!dataTable) return;\n",
              "\n",
              "          const docLinkHtml = 'Like what you see? Visit the ' +\n",
              "            '<a target=\"_blank\" href=https://colab.research.google.com/notebooks/data_table.ipynb>data table notebook</a>'\n",
              "            + ' to learn more about interactive tables.';\n",
              "          element.innerHTML = '';\n",
              "          dataTable['output_type'] = 'display_data';\n",
              "          await google.colab.output.renderOutput(dataTable, element);\n",
              "          const docLink = document.createElement('div');\n",
              "          docLink.innerHTML = docLinkHtml;\n",
              "          element.appendChild(docLink);\n",
              "        }\n",
              "      </script>\n",
              "    </div>\n",
              "  </div>\n",
              "  "
            ]
          },
          "metadata": {},
          "execution_count": 45
        }
      ]
    },
    {
      "cell_type": "code",
      "source": [
        "df2.shape"
      ],
      "metadata": {
        "colab": {
          "base_uri": "https://localhost:8080/"
        },
        "id": "ozkTbjPwfZwL",
        "outputId": "5896bf4d-e538-49d8-ab22-498d3c98bde2"
      },
      "execution_count": 46,
      "outputs": [
        {
          "output_type": "execute_result",
          "data": {
            "text/plain": [
              "(13200, 7)"
            ]
          },
          "metadata": {},
          "execution_count": 46
        }
      ]
    },
    {
      "cell_type": "code",
      "source": [
        "df3 = df2[~(df2.total_sqft/df2.BHK<300)]"
      ],
      "metadata": {
        "id": "hR6BPm1wffbF"
      },
      "execution_count": 48,
      "outputs": []
    },
    {
      "cell_type": "code",
      "source": [
        "df3.shape"
      ],
      "metadata": {
        "colab": {
          "base_uri": "https://localhost:8080/"
        },
        "id": "-F2CTz0Nfj-V",
        "outputId": "bb00d9e8-90bd-42f6-f976-378efb974f9a"
      },
      "execution_count": 49,
      "outputs": [
        {
          "output_type": "execute_result",
          "data": {
            "text/plain": [
              "(12456, 7)"
            ]
          },
          "metadata": {},
          "execution_count": 49
        }
      ]
    },
    {
      "cell_type": "markdown",
      "source": [
        "Outlier Removal Using Standard Deviation and Mean"
      ],
      "metadata": {
        "id": "qvVZA-tlf4Oo"
      }
    },
    {
      "cell_type": "code",
      "source": [
        "df3.price_per_sqft.describe()"
      ],
      "metadata": {
        "colab": {
          "base_uri": "https://localhost:8080/"
        },
        "id": "LXYQl29xfwfo",
        "outputId": "0bec1326-8e57-4fba-f686-e26b17da0125"
      },
      "execution_count": 50,
      "outputs": [
        {
          "output_type": "execute_result",
          "data": {
            "text/plain": [
              "count     12456.000000\n",
              "mean       6308.502826\n",
              "std        4168.127339\n",
              "min         267.829813\n",
              "25%        4210.526316\n",
              "50%        5294.117647\n",
              "75%        6916.666667\n",
              "max      176470.588235\n",
              "Name: price_per_sqft, dtype: float64"
            ]
          },
          "metadata": {},
          "execution_count": 50
        }
      ]
    },
    {
      "cell_type": "markdown",
      "source": [
        "Here we find that min price per sqft is 267 rs/sqft whereas max is 12000000, this shows a wide variation in property prices. We should remove outliers per location using mean and one standard deviation"
      ],
      "metadata": {
        "id": "6ZjQgFX5hV_y"
      }
    },
    {
      "cell_type": "code",
      "source": [
        "def remove_pps_outliers(df):\n",
        "    df_out = pd.DataFrame()\n",
        "    for key, subdf in df.groupby('location'):\n",
        "        m = np.mean(subdf.price_per_sqft)\n",
        "        st = np.std(subdf.price_per_sqft)\n",
        "        reduced_df = subdf[(subdf.price_per_sqft>(m-st)) & (subdf.price_per_sqft<=(m+st))]\n",
        "        df_out = pd.concat([df_out,reduced_df],ignore_index=True)\n",
        "    return df_out\n",
        "df4 = remove_pps_outliers(df3)\n",
        "df4.shape"
      ],
      "metadata": {
        "colab": {
          "base_uri": "https://localhost:8080/"
        },
        "id": "kz9OvAJMf-n2",
        "outputId": "3daf95ef-49db-4ade-df81-73b95272cd05"
      },
      "execution_count": 51,
      "outputs": [
        {
          "output_type": "execute_result",
          "data": {
            "text/plain": [
              "(10242, 7)"
            ]
          },
          "metadata": {},
          "execution_count": 51
        }
      ]
    },
    {
      "cell_type": "code",
      "source": [
        ""
      ],
      "metadata": {
        "id": "O2nqq8wwhaov"
      },
      "execution_count": null,
      "outputs": []
    },
    {
      "cell_type": "markdown",
      "source": [
        "Let's check if for a given location how does the 2 BHK and 3 BHK property prices look like"
      ],
      "metadata": {
        "id": "q-hWULXjhgKo"
      }
    },
    {
      "cell_type": "code",
      "source": [
        "def plot_scatter_chart(df,location):\n",
        "    bhk2 = df[(df.location==location) & (df.BHK==2)]\n",
        "    bhk3 = df[(df.location==location) & (df.BHK==3)]\n",
        "    matplotlib.rcParams['figure.figsize'] = (15,10)\n",
        "    plt.scatter(bhk2.total_sqft,bhk2.price,color='blue',label='2 BHK', s=50)\n",
        "    plt.scatter(bhk3.total_sqft,bhk3.price,marker='+', color='green',label='3 BHK', s=50)\n",
        "    plt.xlabel(\"Total Square Feet Area\")\n",
        "    plt.ylabel(\"Price (Lakh Indian Rupees)\")\n",
        "    plt.title(location)\n",
        "    plt.legend()\n",
        "    \n",
        "plot_scatter_chart(df4,\"Rajaji Nagar\")"
      ],
      "metadata": {
        "colab": {
          "base_uri": "https://localhost:8080/",
          "height": 621
        },
        "id": "lapyE9CDhgss",
        "outputId": "8062a914-988d-465c-9178-810883d0d275"
      },
      "execution_count": 55,
      "outputs": [
        {
          "output_type": "display_data",
          "data": {
            "text/plain": [
              "<Figure size 1080x720 with 1 Axes>"
            ],
            "image/png": "[encoded data removed]"
          },
          "metadata": {
            "needs_background": "light"
          }
        }
      ]
    },
    {
      "cell_type": "code",
      "source": [
        "plot_scatter_chart(df4,\"Hebbal\")"
      ],
      "metadata": {
        "colab": {
          "base_uri": "https://localhost:8080/",
          "height": 621
        },
        "id": "mPkn503ujzcr",
        "outputId": "555e0798-1b5b-4ed8-a33d-7ce65794be76"
      },
      "execution_count": 56,
      "outputs": [
        {
          "output_type": "display_data",
          "data": {
            "text/plain": [
              "<Figure size 1080x720 with 1 Axes>"
            ],
            "image/png": "[encoded data removed]"
          },
          "metadata": {
            "needs_background": "light"
          }
        }
      ]
    },
    {
      "cell_type": "markdown",
      "source": [
        "We should also remove properties where for same location, the price of (for example) 3 bedroom apartment is less than 2 bedroom apartment (with same square ft area). What we will do is for a given location, we will build a dictionary of stats per bhk, i.e.\n",
        "```\n",
        "{\n",
        "    '1' : {\n",
        "        'mean': 4000,\n",
        "        'std: 2000,\n",
        "        'count': 34\n",
        "    },\n",
        "    '2' : {\n",
        "        'mean': 4300,\n",
        "        'std: 2300,\n",
        "        'count': 22\n",
        "    },    \n",
        "}\n",
        "```"
      ],
      "metadata": {
        "id": "Weh4d2pNkRwT"
      }
    },
    {
      "cell_type": "markdown",
      "source": [
        "Now we can remove those 2 BHK apartments whose price_per_sqft is less than mean price_per_sqft of 1 BHK apartment"
      ],
      "metadata": {
        "id": "RVgZigwHkcfy"
      }
    },
    {
      "cell_type": "code",
      "source": [
        "def remove_bhk_outliers(df):\n",
        "    exclude_indices = np.array([])\n",
        "    for location, location_df in df.groupby('location'):\n",
        "        bhk_stats = {}\n",
        "        for bhk, bhk_df in location_df.groupby('BHK'):\n",
        "            bhk_stats[bhk] = {\n",
        "                'mean': np.mean(bhk_df.price_per_sqft),\n",
        "                'std': np.std(bhk_df.price_per_sqft),\n",
        "                'count': bhk_df.shape[0]\n",
        "            }\n",
        "        for bhk, bhk_df in location_df.groupby('BHK'):\n",
        "            stats = bhk_stats.get(bhk-1)\n",
        "            if stats and stats['count']>5:\n",
        "                exclude_indices = np.append(exclude_indices, bhk_df[bhk_df.price_per_sqft<(stats['mean'])].index.values)\n",
        "    return df.drop(exclude_indices,axis='index')\n",
        "df5 = remove_bhk_outliers(df4)\n",
        "# df8 = df7.copy()\n",
        "df5.shape"
      ],
      "metadata": {
        "colab": {
          "base_uri": "https://localhost:8080/"
        },
        "id": "ub-OOGN2kLgs",
        "outputId": "50f1e784-e702-4442-e7f7-fb1461aed25d"
      },
      "execution_count": 58,
      "outputs": [
        {
          "output_type": "execute_result",
          "data": {
            "text/plain": [
              "(7317, 7)"
            ]
          },
          "metadata": {},
          "execution_count": 58
        }
      ]
    },
    {
      "cell_type": "code",
      "source": [
        "plot_scatter_chart(df5,\"Rajaji Nagar\")"
      ],
      "metadata": {
        "colab": {
          "base_uri": "https://localhost:8080/",
          "height": 621
        },
        "id": "5OY8h5Z5k_fg",
        "outputId": "1b548fb0-9592-4612-cd49-423db73236fe"
      },
      "execution_count": 59,
      "outputs": [
        {
          "output_type": "display_data",
          "data": {
            "text/plain": [
              "<Figure size 1080x720 with 1 Axes>"
            ],
            "image/png": "[encoded data removed]"
          },
          "metadata": {
            "needs_background": "light"
          }
        }
      ]
    },
    {
      "cell_type": "code",
      "source": [
        "plot_scatter_chart(df5,\"Hebbal\")"
      ],
      "metadata": {
        "colab": {
          "base_uri": "https://localhost:8080/",
          "height": 621
        },
        "id": "S5ZaDsMYlIju",
        "outputId": "a310fae1-27e2-47e6-d136-4ab95f995b1e"
      },
      "execution_count": 60,
      "outputs": [
        {
          "output_type": "display_data",
          "data": {
            "text/plain": [
              "<Figure size 1080x720 with 1 Axes>"
            ],
            "image/png": "[encoded data removed]"
          },
          "metadata": {
            "needs_background": "light"
          }
        }
      ]
    },
    {
      "cell_type": "markdown",
      "source": [
        "Based on above charts we can see that data points highlighted in red below are outliers and they are being removed due to remove_bhk_outliers function"
      ],
      "metadata": {
        "id": "yn2VikR5lQ4X"
      }
    },
    {
      "cell_type": "markdown",
      "source": [
        "#### Before and after outlier removal: Rajaji Nagar"
      ],
      "metadata": {
        "id": "nEgT0qCDlVR8"
      }
    },
    {
      "cell_type": "markdown",
      "source": [
        "![image.png](data:image/png;base64,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)"
      ],
      "metadata": {
        "id": "sUiiHFSwli5n"
      }
    },
    {
      "cell_type": "markdown",
      "source": [
        "#### Before and after outlier removal: Hebbal\n",
        "![image.png](data:image/png;base64,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)"
      ],
      "metadata": {
        "id": "M7woGIuTl1jI"
      }
    },
    {
      "cell_type": "code",
      "source": [
        "plt.figure(figsize=(20,10))\n",
        "plt.hist(df5.price_per_sqft,rwidth=0.8)\n",
        "plt.xlabel(\"Price Per Square Feet\")\n",
        "plt.ylabel(\"Count\")"
      ],
      "metadata": {
        "colab": {
          "base_uri": "https://localhost:8080/",
          "height": 552
        },
        "id": "azrLRgEDlLmf",
        "outputId": "d51f3793-42db-4c3e-f996-09d9de661dd3"
      },
      "execution_count": 62,
      "outputs": [
        {
          "output_type": "execute_result",
          "data": {
            "text/plain": [
              "Text(0, 0.5, 'Count')"
            ]
          },
          "metadata": {},
          "execution_count": 62
        },
        {
          "output_type": "display_data",
          "data": {
            "text/plain": [
              "<Figure size 1440x720 with 1 Axes>"
            ],
            "image/png": "[encoded data removed]"
          },
          "metadata": {
            "needs_background": "light"
          }
        }
      ]
    },
    {
      "cell_type": "markdown",
      "source": [
        "Outlier Removal Using Bathrooms Feature"
      ],
      "metadata": {
        "id": "BxcTG4WQmbE-"
      }
    },
    {
      "cell_type": "code",
      "source": [
        "df5.bath.unique()"
      ],
      "metadata": {
        "colab": {
          "base_uri": "https://localhost:8080/"
        },
        "id": "kRoXuEZ3mVJG",
        "outputId": "02a510f1-3471-4b4f-cac7-d040a05a868f"
      },
      "execution_count": 63,
      "outputs": [
        {
          "output_type": "execute_result",
          "data": {
            "text/plain": [
              "array([ 4.,  3.,  2.,  5.,  8.,  1.,  6.,  7.,  9., 12., 16., 13.])"
            ]
          },
          "metadata": {},
          "execution_count": 63
        }
      ]
    },
    {
      "cell_type": "code",
      "source": [
        "plt.hist(df5.bath,rwidth=0.8)\n",
        "plt.xlabel(\"Number of bathrooms\")\n",
        "plt.ylabel(\"Count\")"
      ],
      "metadata": {
        "colab": {
          "base_uri": "https://localhost:8080/",
          "height": 623
        },
        "id": "X_Mtk8YvmhEP",
        "outputId": "ca3e8d0d-1d62-452d-edbd-262ef7ef530b"
      },
      "execution_count": 64,
      "outputs": [
        {
          "output_type": "execute_result",
          "data": {
            "text/plain": [
              "Text(0, 0.5, 'Count')"
            ]
          },
          "metadata": {},
          "execution_count": 64
        },
        {
          "output_type": "display_data",
          "data": {
            "text/plain": [
              "<Figure size 1080x720 with 1 Axes>"
            ],
            "image/png": "[encoded data removed]"
          },
          "metadata": {
            "needs_background": "light"
          }
        }
      ]
    },
    {
      "cell_type": "code",
      "source": [
        "df5[df5.bath>10]"
      ],
      "metadata": {
        "colab": {
          "base_uri": "https://localhost:8080/",
          "height": 206
        },
        "id": "wMdDdRdUmkrc",
        "outputId": "d81697ba-c5bb-4c06-a1fd-09d786c0a3fa"
      },
      "execution_count": 66,
      "outputs": [
        {
          "output_type": "execute_result",
          "data": {
            "text/plain": [
              "            location    size  total_sqft  bath  price  BHK  price_per_sqft\n",
              "5277  Neeladri Nagar  10 BHK      4000.0  12.0  160.0   10     4000.000000\n",
              "8483           other  10 BHK     12000.0  12.0  525.0   10     4375.000000\n",
              "8572           other  16 BHK     10000.0  16.0  550.0   16     5500.000000\n",
              "9306           other  11 BHK      6000.0  12.0  150.0   11     2500.000000\n",
              "9637           other  13 BHK      5425.0  13.0  275.0   13     5069.124424"
            ],
            "text/html": [
              "\n",
              "  <div id=\"df-c0fcd0a9-a5e8-4502-ac92-b4920a97284f\">\n",
              "    <div class=\"colab-df-container\">\n",
              "      <div>\n",
              "<style scoped>\n",
              "    .dataframe tbody tr th:only-of-type {\n",
              "        vertical-align: middle;\n",
              "    }\n",
              "\n",
              "    .dataframe tbody tr th {\n",
              "        vertical-align: top;\n",
              "    }\n",
              "\n",
              "    .dataframe thead th {\n",
              "        text-align: right;\n",
              "    }\n",
              "</style>\n",
              "<table border=\"1\" class=\"dataframe\">\n",
              "  <thead>\n",
              "    <tr style=\"text-align: right;\">\n",
              "      <th></th>\n",
              "      <th>location</th>\n",
              "      <th>size</th>\n",
              "      <th>total_sqft</th>\n",
              "      <th>bath</th>\n",
              "      <th>price</th>\n",
              "      <th>BHK</th>\n",
              "      <th>price_per_sqft</th>\n",
              "    </tr>\n",
              "  </thead>\n",
              "  <tbody>\n",
              "    <tr>\n",
              "      <th>5277</th>\n",
              "      <td>Neeladri Nagar</td>\n",
              "      <td>10 BHK</td>\n",
              "      <td>4000.0</td>\n",
              "      <td>12.0</td>\n",
              "      <td>160.0</td>\n",
              "      <td>10</td>\n",
              "      <td>4000.000000</td>\n",
              "    </tr>\n",
              "    <tr>\n",
              "      <th>8483</th>\n",
              "      <td>other</td>\n",
              "      <td>10 BHK</td>\n",
              "      <td>12000.0</td>\n",
              "      <td>12.0</td>\n",
              "      <td>525.0</td>\n",
              "      <td>10</td>\n",
              "      <td>4375.000000</td>\n",
              "    </tr>\n",
              "    <tr>\n",
              "      <th>8572</th>\n",
              "      <td>other</td>\n",
              "      <td>16 BHK</td>\n",
              "      <td>10000.0</td>\n",
              "      <td>16.0</td>\n",
              "      <td>550.0</td>\n",
              "      <td>16</td>\n",
              "      <td>5500.000000</td>\n",
              "    </tr>\n",
              "    <tr>\n",
              "      <th>9306</th>\n",
              "      <td>other</td>\n",
              "      <td>11 BHK</td>\n",
              "      <td>6000.0</td>\n",
              "      <td>12.0</td>\n",
              "      <td>150.0</td>\n",
              "      <td>11</td>\n",
              "      <td>2500.000000</td>\n",
              "    </tr>\n",
              "    <tr>\n",
              "      <th>9637</th>\n",
              "      <td>other</td>\n",
              "      <td>13 BHK</td>\n",
              "      <td>5425.0</td>\n",
              "      <td>13.0</td>\n",
              "      <td>275.0</td>\n",
              "      <td>13</td>\n",
              "      <td>5069.124424</td>\n",
              "    </tr>\n",
              "  </tbody>\n",
              "</table>\n",
              "</div>\n",
              "      <button class=\"colab-df-convert\" onclick=\"convertToInteractive('df-c0fcd0a9-a5e8-4502-ac92-b4920a97284f')\"\n",
              "              title=\"Convert this dataframe to an interactive table.\"\n",
              "              style=\"display:none;\">\n",
              "        \n",
              "  <svg xmlns=\"http://www.w3.org/2000/svg\" height=\"24px\"viewBox=\"0 0 24 24\"\n",
              "       width=\"24px\">\n",
              "    <path d=\"M0 0h24v24H0V0z\" fill=\"none\"/>\n",
              "    <path d=\"M18.56 5.44l.94 2.06.94-2.06 2.06-.94-2.06-.94-.94-2.06-.94 2.06-2.06.94zm-11 1L8.5 8.5l.94-2.06 2.06-.94-2.06-.94L8.5 2.5l-.94 2.06-2.06.94zm10 10l.94 2.06.94-2.06 2.06-.94-2.06-.94-.94-2.06-.94 2.06-2.06.94z\"/><path d=\"M17.41 7.96l-1.37-1.37c-.4-.4-.92-.59-1.43-.59-.52 0-1.04.2-1.43.59L10.3 9.45l-7.72 7.72c-.78.78-.78 2.05 0 2.83L4 21.41c.39.39.9.59 1.41.59.51 0 1.02-.2 1.41-.59l7.78-7.78 2.81-2.81c.8-.78.8-2.07 0-2.86zM5.41 20L4 18.59l7.72-7.72 1.47 1.35L5.41 20z\"/>\n",
              "  </svg>\n",
              "      </button>\n",
              "      \n",
              "  <style>\n",
              "    .colab-df-container {\n",
              "      display:flex;\n",
              "      flex-wrap:wrap;\n",
              "      gap: 12px;\n",
              "    }\n",
              "\n",
              "    .colab-df-convert {\n",
              "      background-color: #E8F0FE;\n",
              "      border: none;\n",
              "      border-radius: 50%;\n",
              "      cursor: pointer;\n",
              "      display: none;\n",
              "      fill: #1967D2;\n",
              "      height: 32px;\n",
              "      padding: 0 0 0 0;\n",
              "      width: 32px;\n",
              "    }\n",
              "\n",
              "    .colab-df-convert:hover {\n",
              "      background-color: #E2EBFA;\n",
              "      box-shadow: 0px 1px 2px rgba(60, 64, 67, 0.3), 0px 1px 3px 1px rgba(60, 64, 67, 0.15);\n",
              "      fill: #174EA6;\n",
              "    }\n",
              "\n",
              "    [theme=dark] .colab-df-convert {\n",
              "      background-color: #3B4455;\n",
              "      fill: #D2E3FC;\n",
              "    }\n",
              "\n",
              "    [theme=dark] .colab-df-convert:hover {\n",
              "      background-color: #434B5C;\n",
              "      box-shadow: 0px 1px 3px 1px rgba(0, 0, 0, 0.15);\n",
              "      filter: drop-shadow(0px 1px 2px rgba(0, 0, 0, 0.3));\n",
              "      fill: #FFFFFF;\n",
              "    }\n",
              "  </style>\n",
              "\n",
              "      <script>\n",
              "        const buttonEl =\n",
              "          document.querySelector('#df-c0fcd0a9-a5e8-4502-ac92-b4920a97284f button.colab-df-convert');\n",
              "        buttonEl.style.display =\n",
              "          google.colab.kernel.accessAllowed ? 'block' : 'none';\n",
              "\n",
              "        async function convertToInteractive(key) {\n",
              "          const element = document.querySelector('#df-c0fcd0a9-a5e8-4502-ac92-b4920a97284f');\n",
              "          const dataTable =\n",
              "            await google.colab.kernel.invokeFunction('convertToInteractive',\n",
              "                                                     [key], {});\n",
              "          if (!dataTable) return;\n",
              "\n",
              "          const docLinkHtml = 'Like what you see? Visit the ' +\n",
              "            '<a target=\"_blank\" href=https://colab.research.google.com/notebooks/data_table.ipynb>data table notebook</a>'\n",
              "            + ' to learn more about interactive tables.';\n",
              "          element.innerHTML = '';\n",
              "          dataTable['output_type'] = 'display_data';\n",
              "          await google.colab.output.renderOutput(dataTable, element);\n",
              "          const docLink = document.createElement('div');\n",
              "          docLink.innerHTML = docLinkHtml;\n",
              "          element.appendChild(docLink);\n",
              "        }\n",
              "      </script>\n",
              "    </div>\n",
              "  </div>\n",
              "  "
            ]
          },
          "metadata": {},
          "execution_count": 66
        }
      ]
    },
    {
      "cell_type": "markdown",
      "source": [
        "It is unusual to have 2 more bathrooms than number of bedrooms in a home"
      ],
      "metadata": {
        "id": "ZCgg-nHMmu5V"
      }
    },
    {
      "cell_type": "code",
      "source": [
        "df5[df5.bath>df5.BHK+2]"
      ],
      "metadata": {
        "colab": {
          "base_uri": "https://localhost:8080/",
          "height": 175
        },
        "id": "__R6RME-moQJ",
        "outputId": "6c20efe1-2783-47e2-bc88-e4529b7cc4c1"
      },
      "execution_count": 70,
      "outputs": [
        {
          "output_type": "execute_result",
          "data": {
            "text/plain": [
              "           location       size  total_sqft  bath   price  BHK  price_per_sqft\n",
              "1626  Chikkabanavar  4 Bedroom      2460.0   7.0    80.0    4     3252.032520\n",
              "5238     Nagasandra  4 Bedroom      7000.0   8.0   450.0    4     6428.571429\n",
              "6711    Thanisandra      3 BHK      1806.0   6.0   116.0    3     6423.034330\n",
              "8408          other      6 BHK     11338.0   9.0  1000.0    6     8819.897689"
            ],
            "text/html": [
              "\n",
              "  <div id=\"df-41c1da06-1198-4a29-a218-ed5eb942236c\">\n",
              "    <div class=\"colab-df-container\">\n",
              "      <div>\n",
              "<style scoped>\n",
              "    .dataframe tbody tr th:only-of-type {\n",
              "        vertical-align: middle;\n",
              "    }\n",
              "\n",
              "    .dataframe tbody tr th {\n",
              "        vertical-align: top;\n",
              "    }\n",
              "\n",
              "    .dataframe thead th {\n",
              "        text-align: right;\n",
              "    }\n",
              "</style>\n",
              "<table border=\"1\" class=\"dataframe\">\n",
              "  <thead>\n",
              "    <tr style=\"text-align: right;\">\n",
              "      <th></th>\n",
              "      <th>location</th>\n",
              "      <th>size</th>\n",
              "      <th>total_sqft</th>\n",
              "      <th>bath</th>\n",
              "      <th>price</th>\n",
              "      <th>BHK</th>\n",
              "      <th>price_per_sqft</th>\n",
              "    </tr>\n",
              "  </thead>\n",
              "  <tbody>\n",
              "    <tr>\n",
              "      <th>1626</th>\n",
              "      <td>Chikkabanavar</td>\n",
              "      <td>4 Bedroom</td>\n",
              "      <td>2460.0</td>\n",
              "      <td>7.0</td>\n",
              "      <td>80.0</td>\n",
              "      <td>4</td>\n",
              "      <td>3252.032520</td>\n",
              "    </tr>\n",
              "    <tr>\n",
              "      <th>5238</th>\n",
              "      <td>Nagasandra</td>\n",
              "      <td>4 Bedroom</td>\n",
              "      <td>7000.0</td>\n",
              "      <td>8.0</td>\n",
              "      <td>450.0</td>\n",
              "      <td>4</td>\n",
              "      <td>6428.571429</td>\n",
              "    </tr>\n",
              "    <tr>\n",
              "      <th>6711</th>\n",
              "      <td>Thanisandra</td>\n",
              "      <td>3 BHK</td>\n",
              "      <td>1806.0</td>\n",
              "      <td>6.0</td>\n",
              "      <td>116.0</td>\n",
              "      <td>3</td>\n",
              "      <td>6423.034330</td>\n",
              "    </tr>\n",
              "    <tr>\n",
              "      <th>8408</th>\n",
              "      <td>other</td>\n",
              "      <td>6 BHK</td>\n",
              "      <td>11338.0</td>\n",
              "      <td>9.0</td>\n",
              "      <td>1000.0</td>\n",
              "      <td>6</td>\n",
              "      <td>8819.897689</td>\n",
              "    </tr>\n",
              "  </tbody>\n",
              "</table>\n",
              "</div>\n",
              "      <button class=\"colab-df-convert\" onclick=\"convertToInteractive('df-41c1da06-1198-4a29-a218-ed5eb942236c')\"\n",
              "              title=\"Convert this dataframe to an interactive table.\"\n",
              "              style=\"display:none;\">\n",
              "        \n",
              "  <svg xmlns=\"http://www.w3.org/2000/svg\" height=\"24px\"viewBox=\"0 0 24 24\"\n",
              "       width=\"24px\">\n",
              "    <path d=\"M0 0h24v24H0V0z\" fill=\"none\"/>\n",
              "    <path d=\"M18.56 5.44l.94 2.06.94-2.06 2.06-.94-2.06-.94-.94-2.06-.94 2.06-2.06.94zm-11 1L8.5 8.5l.94-2.06 2.06-.94-2.06-.94L8.5 2.5l-.94 2.06-2.06.94zm10 10l.94 2.06.94-2.06 2.06-.94-2.06-.94-.94-2.06-.94 2.06-2.06.94z\"/><path d=\"M17.41 7.96l-1.37-1.37c-.4-.4-.92-.59-1.43-.59-.52 0-1.04.2-1.43.59L10.3 9.45l-7.72 7.72c-.78.78-.78 2.05 0 2.83L4 21.41c.39.39.9.59 1.41.59.51 0 1.02-.2 1.41-.59l7.78-7.78 2.81-2.81c.8-.78.8-2.07 0-2.86zM5.41 20L4 18.59l7.72-7.72 1.47 1.35L5.41 20z\"/>\n",
              "  </svg>\n",
              "      </button>\n",
              "      \n",
              "  <style>\n",
              "    .colab-df-container {\n",
              "      display:flex;\n",
              "      flex-wrap:wrap;\n",
              "      gap: 12px;\n",
              "    }\n",
              "\n",
              "    .colab-df-convert {\n",
              "      background-color: #E8F0FE;\n",
              "      border: none;\n",
              "      border-radius: 50%;\n",
              "      cursor: pointer;\n",
              "      display: none;\n",
              "      fill: #1967D2;\n",
              "      height: 32px;\n",
              "      padding: 0 0 0 0;\n",
              "      width: 32px;\n",
              "    }\n",
              "\n",
              "    .colab-df-convert:hover {\n",
              "      background-color: #E2EBFA;\n",
              "      box-shadow: 0px 1px 2px rgba(60, 64, 67, 0.3), 0px 1px 3px 1px rgba(60, 64, 67, 0.15);\n",
              "      fill: #174EA6;\n",
              "    }\n",
              "\n",
              "    [theme=dark] .colab-df-convert {\n",
              "      background-color: #3B4455;\n",
              "      fill: #D2E3FC;\n",
              "    }\n",
              "\n",
              "    [theme=dark] .colab-df-convert:hover {\n",
              "      background-color: #434B5C;\n",
              "      box-shadow: 0px 1px 3px 1px rgba(0, 0, 0, 0.15);\n",
              "      filter: drop-shadow(0px 1px 2px rgba(0, 0, 0, 0.3));\n",
              "      fill: #FFFFFF;\n",
              "    }\n",
              "  </style>\n",
              "\n",
              "      <script>\n",
              "        const buttonEl =\n",
              "          document.querySelector('#df-41c1da06-1198-4a29-a218-ed5eb942236c button.colab-df-convert');\n",
              "        buttonEl.style.display =\n",
              "          google.colab.kernel.accessAllowed ? 'block' : 'none';\n",
              "\n",
              "        async function convertToInteractive(key) {\n",
              "          const element = document.querySelector('#df-41c1da06-1198-4a29-a218-ed5eb942236c');\n",
              "          const dataTable =\n",
              "            await google.colab.kernel.invokeFunction('convertToInteractive',\n",
              "                                                     [key], {});\n",
              "          if (!dataTable) return;\n",
              "\n",
              "          const docLinkHtml = 'Like what you see? Visit the ' +\n",
              "            '<a target=\"_blank\" href=https://colab.research.google.com/notebooks/data_table.ipynb>data table notebook</a>'\n",
              "            + ' to learn more about interactive tables.';\n",
              "          element.innerHTML = '';\n",
              "          dataTable['output_type'] = 'display_data';\n",
              "          await google.colab.output.renderOutput(dataTable, element);\n",
              "          const docLink = document.createElement('div');\n",
              "          docLink.innerHTML = docLinkHtml;\n",
              "          element.appendChild(docLink);\n",
              "        }\n",
              "      </script>\n",
              "    </div>\n",
              "  </div>\n",
              "  "
            ]
          },
          "metadata": {},
          "execution_count": 70
        }
      ]
    },
    {
      "cell_type": "markdown",
      "source": [
        "Assuming that if you have 4 bedroom home and even if you have bathroom in all 4 rooms plus one guest bathroom, you will have total bath = total bed + 1 max. Anything above that is an outlier or a data error and can be removed"
      ],
      "metadata": {
        "id": "66rWwb0inAtY"
      }
    },
    {
      "cell_type": "code",
      "source": [
        "df6 = df5[df5.bath<df5.BHK+2]\n",
        "df6.shape"
      ],
      "metadata": {
        "colab": {
          "base_uri": "https://localhost:8080/"
        },
        "id": "XR22jCOSmyqV",
        "outputId": "de13d3a4-68f3-4531-fe4b-bf6f46ad7a28"
      },
      "execution_count": 72,
      "outputs": [
        {
          "output_type": "execute_result",
          "data": {
            "text/plain": [
              "(7239, 7)"
            ]
          },
          "metadata": {},
          "execution_count": 72
        }
      ]
    },
    {
      "cell_type": "markdown",
      "source": [
        "### Preparing Data"
      ],
      "metadata": {
        "id": "_L9_s2ZRnVXx"
      }
    },
    {
      "cell_type": "code",
      "source": [
        "df7 = df6.drop(['size','price_per_sqft'],axis=1)\n",
        "df7.head(3)"
      ],
      "metadata": {
        "colab": {
          "base_uri": "https://localhost:8080/",
          "height": 143
        },
        "id": "ZACLbBGGnLIb",
        "outputId": "0439be53-0ba8-4cc0-bc88-85240333e764"
      },
      "execution_count": 73,
      "outputs": [
        {
          "output_type": "execute_result",
          "data": {
            "text/plain": [
              "              location  total_sqft  bath  price  BHK\n",
              "0  1st Block Jayanagar      2850.0   4.0  428.0    4\n",
              "1  1st Block Jayanagar      1630.0   3.0  194.0    3\n",
              "2  1st Block Jayanagar      1875.0   2.0  235.0    3"
            ],
            "text/html": [
              "\n",
              "  <div id=\"df-ac90aea7-4462-4709-bfc3-5b62be78c7e0\">\n",
              "    <div class=\"colab-df-container\">\n",
              "      <div>\n",
              "<style scoped>\n",
              "    .dataframe tbody tr th:only-of-type {\n",
              "        vertical-align: middle;\n",
              "    }\n",
              "\n",
              "    .dataframe tbody tr th {\n",
              "        vertical-align: top;\n",
              "    }\n",
              "\n",
              "    .dataframe thead th {\n",
              "        text-align: right;\n",
              "    }\n",
              "</style>\n",
              "<table border=\"1\" class=\"dataframe\">\n",
              "  <thead>\n",
              "    <tr style=\"text-align: right;\">\n",
              "      <th></th>\n",
              "      <th>location</th>\n",
              "      <th>total_sqft</th>\n",
              "      <th>bath</th>\n",
              "      <th>price</th>\n",
              "      <th>BHK</th>\n",
              "    </tr>\n",
              "  </thead>\n",
              "  <tbody>\n",
              "    <tr>\n",
              "      <th>0</th>\n",
              "      <td>1st Block Jayanagar</td>\n",
              "      <td>2850.0</td>\n",
              "      <td>4.0</td>\n",
              "      <td>428.0</td>\n",
              "      <td>4</td>\n",
              "    </tr>\n",
              "    <tr>\n",
              "      <th>1</th>\n",
              "      <td>1st Block Jayanagar</td>\n",
              "      <td>1630.0</td>\n",
              "      <td>3.0</td>\n",
              "      <td>194.0</td>\n",
              "      <td>3</td>\n",
              "    </tr>\n",
              "    <tr>\n",
              "      <th>2</th>\n",
              "      <td>1st Block Jayanagar</td>\n",
              "      <td>1875.0</td>\n",
              "      <td>2.0</td>\n",
              "      <td>235.0</td>\n",
              "      <td>3</td>\n",
              "    </tr>\n",
              "  </tbody>\n",
              "</table>\n",
              "</div>\n",
              "      <button class=\"colab-df-convert\" onclick=\"convertToInteractive('df-ac90aea7-4462-4709-bfc3-5b62be78c7e0')\"\n",
              "              title=\"Convert this dataframe to an interactive table.\"\n",
              "              style=\"display:none;\">\n",
              "        \n",
              "  <svg xmlns=\"http://www.w3.org/2000/svg\" height=\"24px\"viewBox=\"0 0 24 24\"\n",
              "       width=\"24px\">\n",
              "    <path d=\"M0 0h24v24H0V0z\" fill=\"none\"/>\n",
              "    <path d=\"M18.56 5.44l.94 2.06.94-2.06 2.06-.94-2.06-.94-.94-2.06-.94 2.06-2.06.94zm-11 1L8.5 8.5l.94-2.06 2.06-.94-2.06-.94L8.5 2.5l-.94 2.06-2.06.94zm10 10l.94 2.06.94-2.06 2.06-.94-2.06-.94-.94-2.06-.94 2.06-2.06.94z\"/><path d=\"M17.41 7.96l-1.37-1.37c-.4-.4-.92-.59-1.43-.59-.52 0-1.04.2-1.43.59L10.3 9.45l-7.72 7.72c-.78.78-.78 2.05 0 2.83L4 21.41c.39.39.9.59 1.41.59.51 0 1.02-.2 1.41-.59l7.78-7.78 2.81-2.81c.8-.78.8-2.07 0-2.86zM5.41 20L4 18.59l7.72-7.72 1.47 1.35L5.41 20z\"/>\n",
              "  </svg>\n",
              "      </button>\n",
              "      \n",
              "  <style>\n",
              "    .colab-df-container {\n",
              "      display:flex;\n",
              "      flex-wrap:wrap;\n",
              "      gap: 12px;\n",
              "    }\n",
              "\n",
              "    .colab-df-convert {\n",
              "      background-color: #E8F0FE;\n",
              "      border: none;\n",
              "      border-radius: 50%;\n",
              "      cursor: pointer;\n",
              "      display: none;\n",
              "      fill: #1967D2;\n",
              "      height: 32px;\n",
              "      padding: 0 0 0 0;\n",
              "      width: 32px;\n",
              "    }\n",
              "\n",
              "    .colab-df-convert:hover {\n",
              "      background-color: #E2EBFA;\n",
              "      box-shadow: 0px 1px 2px rgba(60, 64, 67, 0.3), 0px 1px 3px 1px rgba(60, 64, 67, 0.15);\n",
              "      fill: #174EA6;\n",
              "    }\n",
              "\n",
              "    [theme=dark] .colab-df-convert {\n",
              "      background-color: #3B4455;\n",
              "      fill: #D2E3FC;\n",
              "    }\n",
              "\n",
              "    [theme=dark] .colab-df-convert:hover {\n",
              "      background-color: #434B5C;\n",
              "      box-shadow: 0px 1px 3px 1px rgba(0, 0, 0, 0.15);\n",
              "      filter: drop-shadow(0px 1px 2px rgba(0, 0, 0, 0.3));\n",
              "      fill: #FFFFFF;\n",
              "    }\n",
              "  </style>\n",
              "\n",
              "      <script>\n",
              "        const buttonEl =\n",
              "          document.querySelector('#df-ac90aea7-4462-4709-bfc3-5b62be78c7e0 button.colab-df-convert');\n",
              "        buttonEl.style.display =\n",
              "          google.colab.kernel.accessAllowed ? 'block' : 'none';\n",
              "\n",
              "        async function convertToInteractive(key) {\n",
              "          const element = document.querySelector('#df-ac90aea7-4462-4709-bfc3-5b62be78c7e0');\n",
              "          const dataTable =\n",
              "            await google.colab.kernel.invokeFunction('convertToInteractive',\n",
              "                                                     [key], {});\n",
              "          if (!dataTable) return;\n",
              "\n",
              "          const docLinkHtml = 'Like what you see? Visit the ' +\n",
              "            '<a target=\"_blank\" href=https://colab.research.google.com/notebooks/data_table.ipynb>data table notebook</a>'\n",
              "            + ' to learn more about interactive tables.';\n",
              "          element.innerHTML = '';\n",
              "          dataTable['output_type'] = 'display_data';\n",
              "          await google.colab.output.renderOutput(dataTable, element);\n",
              "          const docLink = document.createElement('div');\n",
              "          docLink.innerHTML = docLinkHtml;\n",
              "          element.appendChild(docLink);\n",
              "        }\n",
              "      </script>\n",
              "    </div>\n",
              "  </div>\n",
              "  "
            ]
          },
          "metadata": {},
          "execution_count": 73
        }
      ]
    },
    {
      "cell_type": "markdown",
      "source": [
        "Use One Hot Encoding For Location"
      ],
      "metadata": {
        "id": "8bQ_mw7yniLI"
      }
    },
    {
      "cell_type": "code",
      "source": [
        "dummies = pd.get_dummies(df7.location)\n",
        "dummies.head()"
      ],
      "metadata": {
        "colab": {
          "base_uri": "https://localhost:8080/",
          "height": 351
        },
        "id": "uKZ8XTUcnfH4",
        "outputId": "cd2b3621-05b5-4b86-9ded-06b9d562dda5"
      },
      "execution_count": 74,
      "outputs": [
        {
          "output_type": "execute_result",
          "data": {
            "text/plain": [
              "   1st Block Jayanagar  1st Phase JP Nagar  2nd Phase Judicial Layout  \\\n",
              "0                    1                   0                          0   \n",
              "1                    1                   0                          0   \n",
              "2                    1                   0                          0   \n",
              "3                    1                   0                          0   \n",
              "4                    1                   0                          0   \n",
              "\n",
              "   2nd Stage Nagarbhavi  5th Block Hbr Layout  5th Phase JP Nagar  \\\n",
              "0                     0                     0                   0   \n",
              "1                     0                     0                   0   \n",
              "2                     0                     0                   0   \n",
              "3                     0                     0                   0   \n",
              "4                     0                     0                   0   \n",
              "\n",
              "   6th Phase JP Nagar  7th Phase JP Nagar  8th Phase JP Nagar  \\\n",
              "0                   0                   0                   0   \n",
              "1                   0                   0                   0   \n",
              "2                   0                   0                   0   \n",
              "3                   0                   0                   0   \n",
              "4                   0                   0                   0   \n",
              "\n",
              "   9th Phase JP Nagar  ...  Vishveshwarya Layout  Vishwapriya Layout  \\\n",
              "0                   0  ...                     0                   0   \n",
              "1                   0  ...                     0                   0   \n",
              "2                   0  ...                     0                   0   \n",
              "3                   0  ...                     0                   0   \n",
              "4                   0  ...                     0                   0   \n",
              "\n",
              "   Vittasandra  Whitefield  Yelachenahalli  Yelahanka  Yelahanka New Town  \\\n",
              "0            0           0               0          0                   0   \n",
              "1            0           0               0          0                   0   \n",
              "2            0           0               0          0                   0   \n",
              "3            0           0               0          0                   0   \n",
              "4            0           0               0          0                   0   \n",
              "\n",
              "   Yelenahalli  Yeshwanthpur  other  \n",
              "0            0             0      0  \n",
              "1            0             0      0  \n",
              "2            0             0      0  \n",
              "3            0             0      0  \n",
              "4            0             0      0  \n",
              "\n",
              "[5 rows x 241 columns]"
            ],
            "text/html": [
              "\n",
              "  <div id=\"df-b203d8c4-4e40-46c3-8ff2-9d1ed2f20e79\">\n",
              "    <div class=\"colab-df-container\">\n",
              "      <div>\n",
              "<style scoped>\n",
              "    .dataframe tbody tr th:only-of-type {\n",
              "        vertical-align: middle;\n",
              "    }\n",
              "\n",
              "    .dataframe tbody tr th {\n",
              "        vertical-align: top;\n",
              "    }\n",
              "\n",
              "    .dataframe thead th {\n",
              "        text-align: right;\n",
              "    }\n",
              "</style>\n",
              "<table border=\"1\" class=\"dataframe\">\n",
              "  <thead>\n",
              "    <tr style=\"text-align: right;\">\n",
              "      <th></th>\n",
              "      <th>1st Block Jayanagar</th>\n",
              "      <th>1st Phase JP Nagar</th>\n",
              "      <th>2nd Phase Judicial Layout</th>\n",
              "      <th>2nd Stage Nagarbhavi</th>\n",
              "      <th>5th Block Hbr Layout</th>\n",
              "      <th>5th Phase JP Nagar</th>\n",
              "      <th>6th Phase JP Nagar</th>\n",
              "      <th>7th Phase JP Nagar</th>\n",
              "      <th>8th Phase JP Nagar</th>\n",
              "      <th>9th Phase JP Nagar</th>\n",
              "      <th>...</th>\n",
              "      <th>Vishveshwarya Layout</th>\n",
              "      <th>Vishwapriya Layout</th>\n",
              "      <th>Vittasandra</th>\n",
              "      <th>Whitefield</th>\n",
              "      <th>Yelachenahalli</th>\n",
              "      <th>Yelahanka</th>\n",
              "      <th>Yelahanka New Town</th>\n",
              "      <th>Yelenahalli</th>\n",
              "      <th>Yeshwanthpur</th>\n",
              "      <th>other</th>\n",
              "    </tr>\n",
              "  </thead>\n",
              "  <tbody>\n",
              "    <tr>\n",
              "      <th>0</th>\n",
              "      <td>1</td>\n",
              "      <td>0</td>\n",
              "      <td>0</td>\n",
              "      <td>0</td>\n",
              "      <td>0</td>\n",
              "      <td>0</td>\n",
              "      <td>0</td>\n",
              "      <td>0</td>\n",
              "      <td>0</td>\n",
              "      <td>0</td>\n",
              "      <td>...</td>\n",
              "      <td>0</td>\n",
              "      <td>0</td>\n",
              "      <td>0</td>\n",
              "      <td>0</td>\n",
              "      <td>0</td>\n",
              "      <td>0</td>\n",
              "      <td>0</td>\n",
              "      <td>0</td>\n",
              "      <td>0</td>\n",
              "      <td>0</td>\n",
              "    </tr>\n",
              "    <tr>\n",
              "      <th>1</th>\n",
              "      <td>1</td>\n",
              "      <td>0</td>\n",
              "      <td>0</td>\n",
              "      <td>0</td>\n",
              "      <td>0</td>\n",
              "      <td>0</td>\n",
              "      <td>0</td>\n",
              "      <td>0</td>\n",
              "      <td>0</td>\n",
              "      <td>0</td>\n",
              "      <td>...</td>\n",
              "      <td>0</td>\n",
              "      <td>0</td>\n",
              "      <td>0</td>\n",
              "      <td>0</td>\n",
              "      <td>0</td>\n",
              "      <td>0</td>\n",
              "      <td>0</td>\n",
              "      <td>0</td>\n",
              "      <td>0</td>\n",
              "      <td>0</td>\n",
              "    </tr>\n",
              "    <tr>\n",
              "      <th>2</th>\n",
              "      <td>1</td>\n",
              "      <td>0</td>\n",
              "      <td>0</td>\n",
              "      <td>0</td>\n",
              "      <td>0</td>\n",
              "      <td>0</td>\n",
              "      <td>0</td>\n",
              "      <td>0</td>\n",
              "      <td>0</td>\n",
              "      <td>0</td>\n",
              "      <td>...</td>\n",
              "      <td>0</td>\n",
              "      <td>0</td>\n",
              "      <td>0</td>\n",
              "      <td>0</td>\n",
              "      <td>0</td>\n",
              "      <td>0</td>\n",
              "      <td>0</td>\n",
              "      <td>0</td>\n",
              "      <td>0</td>\n",
              "      <td>0</td>\n",
              "    </tr>\n",
              "    <tr>\n",
              "      <th>3</th>\n",
              "      <td>1</td>\n",
              "      <td>0</td>\n",
              "      <td>0</td>\n",
              "      <td>0</td>\n",
              "      <td>0</td>\n",
              "      <td>0</td>\n",
              "      <td>0</td>\n",
              "      <td>0</td>\n",
              "      <td>0</td>\n",
              "      <td>0</td>\n",
              "      <td>...</td>\n",
              "      <td>0</td>\n",
              "      <td>0</td>\n",
              "      <td>0</td>\n",
              "      <td>0</td>\n",
              "      <td>0</td>\n",
              "      <td>0</td>\n",
              "      <td>0</td>\n",
              "      <td>0</td>\n",
              "      <td>0</td>\n",
              "      <td>0</td>\n",
              "    </tr>\n",
              "    <tr>\n",
              "      <th>4</th>\n",
              "      <td>1</td>\n",
              "      <td>0</td>\n",
              "      <td>0</td>\n",
              "      <td>0</td>\n",
              "      <td>0</td>\n",
              "      <td>0</td>\n",
              "      <td>0</td>\n",
              "      <td>0</td>\n",
              "      <td>0</td>\n",
              "      <td>0</td>\n",
              "      <td>...</td>\n",
              "      <td>0</td>\n",
              "      <td>0</td>\n",
              "      <td>0</td>\n",
              "      <td>0</td>\n",
              "      <td>0</td>\n",
              "      <td>0</td>\n",
              "      <td>0</td>\n",
              "      <td>0</td>\n",
              "      <td>0</td>\n",
              "      <td>0</td>\n",
              "    </tr>\n",
              "  </tbody>\n",
              "</table>\n",
              "<p>5 rows × 241 columns</p>\n",
              "</div>\n",
              "      <button class=\"colab-df-convert\" onclick=\"convertToInteractive('df-b203d8c4-4e40-46c3-8ff2-9d1ed2f20e79')\"\n",
              "              title=\"Convert this dataframe to an interactive table.\"\n",
              "              style=\"display:none;\">\n",
              "        \n",
              "  <svg xmlns=\"http://www.w3.org/2000/svg\" height=\"24px\"viewBox=\"0 0 24 24\"\n",
              "       width=\"24px\">\n",
              "    <path d=\"M0 0h24v24H0V0z\" fill=\"none\"/>\n",
              "    <path d=\"M18.56 5.44l.94 2.06.94-2.06 2.06-.94-2.06-.94-.94-2.06-.94 2.06-2.06.94zm-11 1L8.5 8.5l.94-2.06 2.06-.94-2.06-.94L8.5 2.5l-.94 2.06-2.06.94zm10 10l.94 2.06.94-2.06 2.06-.94-2.06-.94-.94-2.06-.94 2.06-2.06.94z\"/><path d=\"M17.41 7.96l-1.37-1.37c-.4-.4-.92-.59-1.43-.59-.52 0-1.04.2-1.43.59L10.3 9.45l-7.72 7.72c-.78.78-.78 2.05 0 2.83L4 21.41c.39.39.9.59 1.41.59.51 0 1.02-.2 1.41-.59l7.78-7.78 2.81-2.81c.8-.78.8-2.07 0-2.86zM5.41 20L4 18.59l7.72-7.72 1.47 1.35L5.41 20z\"/>\n",
              "  </svg>\n",
              "      </button>\n",
              "      \n",
              "  <style>\n",
              "    .colab-df-container {\n",
              "      display:flex;\n",
              "      flex-wrap:wrap;\n",
              "      gap: 12px;\n",
              "    }\n",
              "\n",
              "    .colab-df-convert {\n",
              "      background-color: #E8F0FE;\n",
              "      border: none;\n",
              "      border-radius: 50%;\n",
              "      cursor: pointer;\n",
              "      display: none;\n",
              "      fill: #1967D2;\n",
              "      height: 32px;\n",
              "      padding: 0 0 0 0;\n",
              "      width: 32px;\n",
              "    }\n",
              "\n",
              "    .colab-df-convert:hover {\n",
              "      background-color: #E2EBFA;\n",
              "      box-shadow: 0px 1px 2px rgba(60, 64, 67, 0.3), 0px 1px 3px 1px rgba(60, 64, 67, 0.15);\n",
              "      fill: #174EA6;\n",
              "    }\n",
              "\n",
              "    [theme=dark] .colab-df-convert {\n",
              "      background-color: #3B4455;\n",
              "      fill: #D2E3FC;\n",
              "    }\n",
              "\n",
              "    [theme=dark] .colab-df-convert:hover {\n",
              "      background-color: #434B5C;\n",
              "      box-shadow: 0px 1px 3px 1px rgba(0, 0, 0, 0.15);\n",
              "      filter: drop-shadow(0px 1px 2px rgba(0, 0, 0, 0.3));\n",
              "      fill: #FFFFFF;\n",
              "    }\n",
              "  </style>\n",
              "\n",
              "      <script>\n",
              "        const buttonEl =\n",
              "          document.querySelector('#df-b203d8c4-4e40-46c3-8ff2-9d1ed2f20e79 button.colab-df-convert');\n",
              "        buttonEl.style.display =\n",
              "          google.colab.kernel.accessAllowed ? 'block' : 'none';\n",
              "\n",
              "        async function convertToInteractive(key) {\n",
              "          const element = document.querySelector('#df-b203d8c4-4e40-46c3-8ff2-9d1ed2f20e79');\n",
              "          const dataTable =\n",
              "            await google.colab.kernel.invokeFunction('convertToInteractive',\n",
              "                                                     [key], {});\n",
              "          if (!dataTable) return;\n",
              "\n",
              "          const docLinkHtml = 'Like what you see? Visit the ' +\n",
              "            '<a target=\"_blank\" href=https://colab.research.google.com/notebooks/data_table.ipynb>data table notebook</a>'\n",
              "            + ' to learn more about interactive tables.';\n",
              "          element.innerHTML = '';\n",
              "          dataTable['output_type'] = 'display_data';\n",
              "          await google.colab.output.renderOutput(dataTable, element);\n",
              "          const docLink = document.createElement('div');\n",
              "          docLink.innerHTML = docLinkHtml;\n",
              "          element.appendChild(docLink);\n",
              "        }\n",
              "      </script>\n",
              "    </div>\n",
              "  </div>\n",
              "  "
            ]
          },
          "metadata": {},
          "execution_count": 74
        }
      ]
    },
    {
      "cell_type": "code",
      "source": [
        "df8 = pd.concat([df7,dummies.drop('other',axis=1)],axis=1)\n",
        "df8.head()"
      ],
      "metadata": {
        "colab": {
          "base_uri": "https://localhost:8080/",
          "height": 438
        },
        "id": "GVQlX-D_nzfi",
        "outputId": "15e8338b-cea6-48ad-c78c-c87b40e553a0"
      },
      "execution_count": 75,
      "outputs": [
        {
          "output_type": "execute_result",
          "data": {
            "text/plain": [
              "              location  total_sqft  bath  price  BHK  1st Block Jayanagar  \\\n",
              "0  1st Block Jayanagar      2850.0   4.0  428.0    4                    1   \n",
              "1  1st Block Jayanagar      1630.0   3.0  194.0    3                    1   \n",
              "2  1st Block Jayanagar      1875.0   2.0  235.0    3                    1   \n",
              "3  1st Block Jayanagar      1200.0   2.0  130.0    3                    1   \n",
              "4  1st Block Jayanagar      1235.0   2.0  148.0    2                    1   \n",
              "\n",
              "   1st Phase JP Nagar  2nd Phase Judicial Layout  2nd Stage Nagarbhavi  \\\n",
              "0                   0                          0                     0   \n",
              "1                   0                          0                     0   \n",
              "2                   0                          0                     0   \n",
              "3                   0                          0                     0   \n",
              "4                   0                          0                     0   \n",
              "\n",
              "   5th Block Hbr Layout  ...  Vijayanagar  Vishveshwarya Layout  \\\n",
              "0                     0  ...            0                     0   \n",
              "1                     0  ...            0                     0   \n",
              "2                     0  ...            0                     0   \n",
              "3                     0  ...            0                     0   \n",
              "4                     0  ...            0                     0   \n",
              "\n",
              "   Vishwapriya Layout  Vittasandra  Whitefield  Yelachenahalli  Yelahanka  \\\n",
              "0                   0            0           0               0          0   \n",
              "1                   0            0           0               0          0   \n",
              "2                   0            0           0               0          0   \n",
              "3                   0            0           0               0          0   \n",
              "4                   0            0           0               0          0   \n",
              "\n",
              "   Yelahanka New Town  Yelenahalli  Yeshwanthpur  \n",
              "0                   0            0             0  \n",
              "1                   0            0             0  \n",
              "2                   0            0             0  \n",
              "3                   0            0             0  \n",
              "4                   0            0             0  \n",
              "\n",
              "[5 rows x 245 columns]"
            ],
            "text/html": [
              "\n",
              "  <div id=\"df-72d8e42d-080c-44fa-97a0-98767e0b3062\">\n",
              "    <div class=\"colab-df-container\">\n",
              "      <div>\n",
              "<style scoped>\n",
              "    .dataframe tbody tr th:only-of-type {\n",
              "        vertical-align: middle;\n",
              "    }\n",
              "\n",
              "    .dataframe tbody tr th {\n",
              "        vertical-align: top;\n",
              "    }\n",
              "\n",
              "    .dataframe thead th {\n",
              "        text-align: right;\n",
              "    }\n",
              "</style>\n",
              "<table border=\"1\" class=\"dataframe\">\n",
              "  <thead>\n",
              "    <tr style=\"text-align: right;\">\n",
              "      <th></th>\n",
              "      <th>location</th>\n",
              "      <th>total_sqft</th>\n",
              "      <th>bath</th>\n",
              "      <th>price</th>\n",
              "      <th>BHK</th>\n",
              "      <th>1st Block Jayanagar</th>\n",
              "      <th>1st Phase JP Nagar</th>\n",
              "      <th>2nd Phase Judicial Layout</th>\n",
              "      <th>2nd Stage Nagarbhavi</th>\n",
              "      <th>5th Block Hbr Layout</th>\n",
              "      <th>...</th>\n",
              "      <th>Vijayanagar</th>\n",
              "      <th>Vishveshwarya Layout</th>\n",
              "      <th>Vishwapriya Layout</th>\n",
              "      <th>Vittasandra</th>\n",
              "      <th>Whitefield</th>\n",
              "      <th>Yelachenahalli</th>\n",
              "      <th>Yelahanka</th>\n",
              "      <th>Yelahanka New Town</th>\n",
              "      <th>Yelenahalli</th>\n",
              "      <th>Yeshwanthpur</th>\n",
              "    </tr>\n",
              "  </thead>\n",
              "  <tbody>\n",
              "    <tr>\n",
              "      <th>0</th>\n",
              "      <td>1st Block Jayanagar</td>\n",
              "      <td>2850.0</td>\n",
              "      <td>4.0</td>\n",
              "      <td>428.0</td>\n",
              "      <td>4</td>\n",
              "      <td>1</td>\n",
              "      <td>0</td>\n",
              "      <td>0</td>\n",
              "      <td>0</td>\n",
              "      <td>0</td>\n",
              "      <td>...</td>\n",
              "      <td>0</td>\n",
              "      <td>0</td>\n",
              "      <td>0</td>\n",
              "      <td>0</td>\n",
              "      <td>0</td>\n",
              "      <td>0</td>\n",
              "      <td>0</td>\n",
              "      <td>0</td>\n",
              "      <td>0</td>\n",
              "      <td>0</td>\n",
              "    </tr>\n",
              "    <tr>\n",
              "      <th>1</th>\n",
              "      <td>1st Block Jayanagar</td>\n",
              "      <td>1630.0</td>\n",
              "      <td>3.0</td>\n",
              "      <td>194.0</td>\n",
              "      <td>3</td>\n",
              "      <td>1</td>\n",
              "      <td>0</td>\n",
              "      <td>0</td>\n",
              "      <td>0</td>\n",
              "      <td>0</td>\n",
              "      <td>...</td>\n",
              "      <td>0</td>\n",
              "      <td>0</td>\n",
              "      <td>0</td>\n",
              "      <td>0</td>\n",
              "      <td>0</td>\n",
              "      <td>0</td>\n",
              "      <td>0</td>\n",
              "      <td>0</td>\n",
              "      <td>0</td>\n",
              "      <td>0</td>\n",
              "    </tr>\n",
              "    <tr>\n",
              "      <th>2</th>\n",
              "      <td>1st Block Jayanagar</td>\n",
              "      <td>1875.0</td>\n",
              "      <td>2.0</td>\n",
              "      <td>235.0</td>\n",
              "      <td>3</td>\n",
              "      <td>1</td>\n",
              "      <td>0</td>\n",
              "      <td>0</td>\n",
              "      <td>0</td>\n",
              "      <td>0</td>\n",
              "      <td>...</td>\n",
              "      <td>0</td>\n",
              "      <td>0</td>\n",
              "      <td>0</td>\n",
              "      <td>0</td>\n",
              "      <td>0</td>\n",
              "      <td>0</td>\n",
              "      <td>0</td>\n",
              "      <td>0</td>\n",
              "      <td>0</td>\n",
              "      <td>0</td>\n",
              "    </tr>\n",
              "    <tr>\n",
              "      <th>3</th>\n",
              "      <td>1st Block Jayanagar</td>\n",
              "      <td>1200.0</td>\n",
              "      <td>2.0</td>\n",
              "      <td>130.0</td>\n",
              "      <td>3</td>\n",
              "      <td>1</td>\n",
              "      <td>0</td>\n",
              "      <td>0</td>\n",
              "      <td>0</td>\n",
              "      <td>0</td>\n",
              "      <td>...</td>\n",
              "      <td>0</td>\n",
              "      <td>0</td>\n",
              "      <td>0</td>\n",
              "      <td>0</td>\n",
              "      <td>0</td>\n",
              "      <td>0</td>\n",
              "      <td>0</td>\n",
              "      <td>0</td>\n",
              "      <td>0</td>\n",
              "      <td>0</td>\n",
              "    </tr>\n",
              "    <tr>\n",
              "      <th>4</th>\n",
              "      <td>1st Block Jayanagar</td>\n",
              "      <td>1235.0</td>\n",
              "      <td>2.0</td>\n",
              "      <td>148.0</td>\n",
              "      <td>2</td>\n",
              "      <td>1</td>\n",
              "      <td>0</td>\n",
              "      <td>0</td>\n",
              "      <td>0</td>\n",
              "      <td>0</td>\n",
              "      <td>...</td>\n",
              "      <td>0</td>\n",
              "      <td>0</td>\n",
              "      <td>0</td>\n",
              "      <td>0</td>\n",
              "      <td>0</td>\n",
              "      <td>0</td>\n",
              "      <td>0</td>\n",
              "      <td>0</td>\n",
              "      <td>0</td>\n",
              "      <td>0</td>\n",
              "    </tr>\n",
              "  </tbody>\n",
              "</table>\n",
              "<p>5 rows × 245 columns</p>\n",
              "</div>\n",
              "      <button class=\"colab-df-convert\" onclick=\"convertToInteractive('df-72d8e42d-080c-44fa-97a0-98767e0b3062')\"\n",
              "              title=\"Convert this dataframe to an interactive table.\"\n",
              "              style=\"display:none;\">\n",
              "        \n",
              "  <svg xmlns=\"http://www.w3.org/2000/svg\" height=\"24px\"viewBox=\"0 0 24 24\"\n",
              "       width=\"24px\">\n",
              "    <path d=\"M0 0h24v24H0V0z\" fill=\"none\"/>\n",
              "    <path d=\"M18.56 5.44l.94 2.06.94-2.06 2.06-.94-2.06-.94-.94-2.06-.94 2.06-2.06.94zm-11 1L8.5 8.5l.94-2.06 2.06-.94-2.06-.94L8.5 2.5l-.94 2.06-2.06.94zm10 10l.94 2.06.94-2.06 2.06-.94-2.06-.94-.94-2.06-.94 2.06-2.06.94z\"/><path d=\"M17.41 7.96l-1.37-1.37c-.4-.4-.92-.59-1.43-.59-.52 0-1.04.2-1.43.59L10.3 9.45l-7.72 7.72c-.78.78-.78 2.05 0 2.83L4 21.41c.39.39.9.59 1.41.59.51 0 1.02-.2 1.41-.59l7.78-7.78 2.81-2.81c.8-.78.8-2.07 0-2.86zM5.41 20L4 18.59l7.72-7.72 1.47 1.35L5.41 20z\"/>\n",
              "  </svg>\n",
              "      </button>\n",
              "      \n",
              "  <style>\n",
              "    .colab-df-container {\n",
              "      display:flex;\n",
              "      flex-wrap:wrap;\n",
              "      gap: 12px;\n",
              "    }\n",
              "\n",
              "    .colab-df-convert {\n",
              "      background-color: #E8F0FE;\n",
              "      border: none;\n",
              "      border-radius: 50%;\n",
              "      cursor: pointer;\n",
              "      display: none;\n",
              "      fill: #1967D2;\n",
              "      height: 32px;\n",
              "      padding: 0 0 0 0;\n",
              "      width: 32px;\n",
              "    }\n",
              "\n",
              "    .colab-df-convert:hover {\n",
              "      background-color: #E2EBFA;\n",
              "      box-shadow: 0px 1px 2px rgba(60, 64, 67, 0.3), 0px 1px 3px 1px rgba(60, 64, 67, 0.15);\n",
              "      fill: #174EA6;\n",
              "    }\n",
              "\n",
              "    [theme=dark] .colab-df-convert {\n",
              "      background-color: #3B4455;\n",
              "      fill: #D2E3FC;\n",
              "    }\n",
              "\n",
              "    [theme=dark] .colab-df-convert:hover {\n",
              "      background-color: #434B5C;\n",
              "      box-shadow: 0px 1px 3px 1px rgba(0, 0, 0, 0.15);\n",
              "      filter: drop-shadow(0px 1px 2px rgba(0, 0, 0, 0.3));\n",
              "      fill: #FFFFFF;\n",
              "    }\n",
              "  </style>\n",
              "\n",
              "      <script>\n",
              "        const buttonEl =\n",
              "          document.querySelector('#df-72d8e42d-080c-44fa-97a0-98767e0b3062 button.colab-df-convert');\n",
              "        buttonEl.style.display =\n",
              "          google.colab.kernel.accessAllowed ? 'block' : 'none';\n",
              "\n",
              "        async function convertToInteractive(key) {\n",
              "          const element = document.querySelector('#df-72d8e42d-080c-44fa-97a0-98767e0b3062');\n",
              "          const dataTable =\n",
              "            await google.colab.kernel.invokeFunction('convertToInteractive',\n",
              "                                                     [key], {});\n",
              "          if (!dataTable) return;\n",
              "\n",
              "          const docLinkHtml = 'Like what you see? Visit the ' +\n",
              "            '<a target=\"_blank\" href=https://colab.research.google.com/notebooks/data_table.ipynb>data table notebook</a>'\n",
              "            + ' to learn more about interactive tables.';\n",
              "          element.innerHTML = '';\n",
              "          dataTable['output_type'] = 'display_data';\n",
              "          await google.colab.output.renderOutput(dataTable, element);\n",
              "          const docLink = document.createElement('div');\n",
              "          docLink.innerHTML = docLinkHtml;\n",
              "          element.appendChild(docLink);\n",
              "        }\n",
              "      </script>\n",
              "    </div>\n",
              "  </div>\n",
              "  "
            ]
          },
          "metadata": {},
          "execution_count": 75
        }
      ]
    },
    {
      "cell_type": "code",
      "source": [
        "df8.drop('location',axis=1,inplace = True)"
      ],
      "metadata": {
        "id": "2_74Mv69oBaD"
      },
      "execution_count": 76,
      "outputs": []
    },
    {
      "cell_type": "code",
      "source": [
        "df8.head(3)"
      ],
      "metadata": {
        "colab": {
          "base_uri": "https://localhost:8080/",
          "height": 289
        },
        "id": "UvNNP-ocoK2J",
        "outputId": "d4e7c7e4-4e08-49c3-9d07-461eb60238ec"
      },
      "execution_count": 78,
      "outputs": [
        {
          "output_type": "execute_result",
          "data": {
            "text/plain": [
              "   total_sqft  bath  price  BHK  1st Block Jayanagar  1st Phase JP Nagar  \\\n",
              "0      2850.0   4.0  428.0    4                    1                   0   \n",
              "1      1630.0   3.0  194.0    3                    1                   0   \n",
              "2      1875.0   2.0  235.0    3                    1                   0   \n",
              "\n",
              "   2nd Phase Judicial Layout  2nd Stage Nagarbhavi  5th Block Hbr Layout  \\\n",
              "0                          0                     0                     0   \n",
              "1                          0                     0                     0   \n",
              "2                          0                     0                     0   \n",
              "\n",
              "   5th Phase JP Nagar  ...  Vijayanagar  Vishveshwarya Layout  \\\n",
              "0                   0  ...            0                     0   \n",
              "1                   0  ...            0                     0   \n",
              "2                   0  ...            0                     0   \n",
              "\n",
              "   Vishwapriya Layout  Vittasandra  Whitefield  Yelachenahalli  Yelahanka  \\\n",
              "0                   0            0           0               0          0   \n",
              "1                   0            0           0               0          0   \n",
              "2                   0            0           0               0          0   \n",
              "\n",
              "   Yelahanka New Town  Yelenahalli  Yeshwanthpur  \n",
              "0                   0            0             0  \n",
              "1                   0            0             0  \n",
              "2                   0            0             0  \n",
              "\n",
              "[3 rows x 244 columns]"
            ],
            "text/html": [
              "\n",
              "  <div id=\"df-1cc2b3eb-04bc-49c0-ab2b-55c7ebcb003f\">\n",
              "    <div class=\"colab-df-container\">\n",
              "      <div>\n",
              "<style scoped>\n",
              "    .dataframe tbody tr th:only-of-type {\n",
              "        vertical-align: middle;\n",
              "    }\n",
              "\n",
              "    .dataframe tbody tr th {\n",
              "        vertical-align: top;\n",
              "    }\n",
              "\n",
              "    .dataframe thead th {\n",
              "        text-align: right;\n",
              "    }\n",
              "</style>\n",
              "<table border=\"1\" class=\"dataframe\">\n",
              "  <thead>\n",
              "    <tr style=\"text-align: right;\">\n",
              "      <th></th>\n",
              "      <th>total_sqft</th>\n",
              "      <th>bath</th>\n",
              "      <th>price</th>\n",
              "      <th>BHK</th>\n",
              "      <th>1st Block Jayanagar</th>\n",
              "      <th>1st Phase JP Nagar</th>\n",
              "      <th>2nd Phase Judicial Layout</th>\n",
              "      <th>2nd Stage Nagarbhavi</th>\n",
              "      <th>5th Block Hbr Layout</th>\n",
              "      <th>5th Phase JP Nagar</th>\n",
              "      <th>...</th>\n",
              "      <th>Vijayanagar</th>\n",
              "      <th>Vishveshwarya Layout</th>\n",
              "      <th>Vishwapriya Layout</th>\n",
              "      <th>Vittasandra</th>\n",
              "      <th>Whitefield</th>\n",
              "      <th>Yelachenahalli</th>\n",
              "      <th>Yelahanka</th>\n",
              "      <th>Yelahanka New Town</th>\n",
              "      <th>Yelenahalli</th>\n",
              "      <th>Yeshwanthpur</th>\n",
              "    </tr>\n",
              "  </thead>\n",
              "  <tbody>\n",
              "    <tr>\n",
              "      <th>0</th>\n",
              "      <td>2850.0</td>\n",
              "      <td>4.0</td>\n",
              "      <td>428.0</td>\n",
              "      <td>4</td>\n",
              "      <td>1</td>\n",
              "      <td>0</td>\n",
              "      <td>0</td>\n",
              "      <td>0</td>\n",
              "      <td>0</td>\n",
              "      <td>0</td>\n",
              "      <td>...</td>\n",
              "      <td>0</td>\n",
              "      <td>0</td>\n",
              "      <td>0</td>\n",
              "      <td>0</td>\n",
              "      <td>0</td>\n",
              "      <td>0</td>\n",
              "      <td>0</td>\n",
              "      <td>0</td>\n",
              "      <td>0</td>\n",
              "      <td>0</td>\n",
              "    </tr>\n",
              "    <tr>\n",
              "      <th>1</th>\n",
              "      <td>1630.0</td>\n",
              "      <td>3.0</td>\n",
              "      <td>194.0</td>\n",
              "      <td>3</td>\n",
              "      <td>1</td>\n",
              "      <td>0</td>\n",
              "      <td>0</td>\n",
              "      <td>0</td>\n",
              "      <td>0</td>\n",
              "      <td>0</td>\n",
              "      <td>...</td>\n",
              "      <td>0</td>\n",
              "      <td>0</td>\n",
              "      <td>0</td>\n",
              "      <td>0</td>\n",
              "      <td>0</td>\n",
              "      <td>0</td>\n",
              "      <td>0</td>\n",
              "      <td>0</td>\n",
              "      <td>0</td>\n",
              "      <td>0</td>\n",
              "    </tr>\n",
              "    <tr>\n",
              "      <th>2</th>\n",
              "      <td>1875.0</td>\n",
              "      <td>2.0</td>\n",
              "      <td>235.0</td>\n",
              "      <td>3</td>\n",
              "      <td>1</td>\n",
              "      <td>0</td>\n",
              "      <td>0</td>\n",
              "      <td>0</td>\n",
              "      <td>0</td>\n",
              "      <td>0</td>\n",
              "      <td>...</td>\n",
              "      <td>0</td>\n",
              "      <td>0</td>\n",
              "      <td>0</td>\n",
              "      <td>0</td>\n",
              "      <td>0</td>\n",
              "      <td>0</td>\n",
              "      <td>0</td>\n",
              "      <td>0</td>\n",
              "      <td>0</td>\n",
              "      <td>0</td>\n",
              "    </tr>\n",
              "  </tbody>\n",
              "</table>\n",
              "<p>3 rows × 244 columns</p>\n",
              "</div>\n",
              "      <button class=\"colab-df-convert\" onclick=\"convertToInteractive('df-1cc2b3eb-04bc-49c0-ab2b-55c7ebcb003f')\"\n",
              "              title=\"Convert this dataframe to an interactive table.\"\n",
              "              style=\"display:none;\">\n",
              "        \n",
              "  <svg xmlns=\"http://www.w3.org/2000/svg\" height=\"24px\"viewBox=\"0 0 24 24\"\n",
              "       width=\"24px\">\n",
              "    <path d=\"M0 0h24v24H0V0z\" fill=\"none\"/>\n",
              "    <path d=\"M18.56 5.44l.94 2.06.94-2.06 2.06-.94-2.06-.94-.94-2.06-.94 2.06-2.06.94zm-11 1L8.5 8.5l.94-2.06 2.06-.94-2.06-.94L8.5 2.5l-.94 2.06-2.06.94zm10 10l.94 2.06.94-2.06 2.06-.94-2.06-.94-.94-2.06-.94 2.06-2.06.94z\"/><path d=\"M17.41 7.96l-1.37-1.37c-.4-.4-.92-.59-1.43-.59-.52 0-1.04.2-1.43.59L10.3 9.45l-7.72 7.72c-.78.78-.78 2.05 0 2.83L4 21.41c.39.39.9.59 1.41.59.51 0 1.02-.2 1.41-.59l7.78-7.78 2.81-2.81c.8-.78.8-2.07 0-2.86zM5.41 20L4 18.59l7.72-7.72 1.47 1.35L5.41 20z\"/>\n",
              "  </svg>\n",
              "      </button>\n",
              "      \n",
              "  <style>\n",
              "    .colab-df-container {\n",
              "      display:flex;\n",
              "      flex-wrap:wrap;\n",
              "      gap: 12px;\n",
              "    }\n",
              "\n",
              "    .colab-df-convert {\n",
              "      background-color: #E8F0FE;\n",
              "      border: none;\n",
              "      border-radius: 50%;\n",
              "      cursor: pointer;\n",
              "      display: none;\n",
              "      fill: #1967D2;\n",
              "      height: 32px;\n",
              "      padding: 0 0 0 0;\n",
              "      width: 32px;\n",
              "    }\n",
              "\n",
              "    .colab-df-convert:hover {\n",
              "      background-color: #E2EBFA;\n",
              "      box-shadow: 0px 1px 2px rgba(60, 64, 67, 0.3), 0px 1px 3px 1px rgba(60, 64, 67, 0.15);\n",
              "      fill: #174EA6;\n",
              "    }\n",
              "\n",
              "    [theme=dark] .colab-df-convert {\n",
              "      background-color: #3B4455;\n",
              "      fill: #D2E3FC;\n",
              "    }\n",
              "\n",
              "    [theme=dark] .colab-df-convert:hover {\n",
              "      background-color: #434B5C;\n",
              "      box-shadow: 0px 1px 3px 1px rgba(0, 0, 0, 0.15);\n",
              "      filter: drop-shadow(0px 1px 2px rgba(0, 0, 0, 0.3));\n",
              "      fill: #FFFFFF;\n",
              "    }\n",
              "  </style>\n",
              "\n",
              "      <script>\n",
              "        const buttonEl =\n",
              "          document.querySelector('#df-1cc2b3eb-04bc-49c0-ab2b-55c7ebcb003f button.colab-df-convert');\n",
              "        buttonEl.style.display =\n",
              "          google.colab.kernel.accessAllowed ? 'block' : 'none';\n",
              "\n",
              "        async function convertToInteractive(key) {\n",
              "          const element = document.querySelector('#df-1cc2b3eb-04bc-49c0-ab2b-55c7ebcb003f');\n",
              "          const dataTable =\n",
              "            await google.colab.kernel.invokeFunction('convertToInteractive',\n",
              "                                                     [key], {});\n",
              "          if (!dataTable) return;\n",
              "\n",
              "          const docLinkHtml = 'Like what you see? Visit the ' +\n",
              "            '<a target=\"_blank\" href=https://colab.research.google.com/notebooks/data_table.ipynb>data table notebook</a>'\n",
              "            + ' to learn more about interactive tables.';\n",
              "          element.innerHTML = '';\n",
              "          dataTable['output_type'] = 'display_data';\n",
              "          await google.colab.output.renderOutput(dataTable, element);\n",
              "          const docLink = document.createElement('div');\n",
              "          docLink.innerHTML = docLinkHtml;\n",
              "          element.appendChild(docLink);\n",
              "        }\n",
              "      </script>\n",
              "    </div>\n",
              "  </div>\n",
              "  "
            ]
          },
          "metadata": {},
          "execution_count": 78
        }
      ]
    },
    {
      "cell_type": "code",
      "source": [
        "df8.to_csv('Final_data.csv',index=False)"
      ],
      "metadata": {
        "id": "ycI2AVPkoNFC"
      },
      "execution_count": 80,
      "outputs": []
    },
    {
      "cell_type": "markdown",
      "source": [
        "## Model Building"
      ],
      "metadata": {
        "id": "eheDEtKCoTsE"
      }
    },
    {
      "cell_type": "markdown",
      "source": [
        ""
      ],
      "metadata": {
        "id": "k6ybq5k5oW84"
      }
    },
    {
      "cell_type": "code",
      "source": [
        "df8.shape"
      ],
      "metadata": {
        "colab": {
          "base_uri": "https://localhost:8080/"
        },
        "id": "uGwCS4iNoVKY",
        "outputId": "ceff73bd-b4e1-4b4b-a84e-6a37a54b9102"
      },
      "execution_count": 79,
      "outputs": [
        {
          "output_type": "execute_result",
          "data": {
            "text/plain": [
              "(7239, 244)"
            ]
          },
          "metadata": {},
          "execution_count": 79
        }
      ]
    },
    {
      "cell_type": "code",
      "source": [
        "X = df8.drop('price',axis=1)\n",
        "y = df8.price"
      ],
      "metadata": {
        "id": "3L0OpfaqoY6S"
      },
      "execution_count": 83,
      "outputs": []
    },
    {
      "cell_type": "code",
      "source": [
        "X.head(2)"
      ],
      "metadata": {
        "colab": {
          "base_uri": "https://localhost:8080/",
          "height": 187
        },
        "id": "tBINTnOpomRb",
        "outputId": "59cd4454-d219-40d5-d13a-e410974587da"
      },
      "execution_count": 84,
      "outputs": [
        {
          "output_type": "execute_result",
          "data": {
            "text/plain": [
              "   total_sqft  bath  BHK  1st Block Jayanagar  1st Phase JP Nagar  \\\n",
              "0      2850.0   4.0    4                    1                   0   \n",
              "1      1630.0   3.0    3                    1                   0   \n",
              "\n",
              "   2nd Phase Judicial Layout  2nd Stage Nagarbhavi  5th Block Hbr Layout  \\\n",
              "0                          0                     0                     0   \n",
              "1                          0                     0                     0   \n",
              "\n",
              "   5th Phase JP Nagar  6th Phase JP Nagar  ...  Vijayanagar  \\\n",
              "0                   0                   0  ...            0   \n",
              "1                   0                   0  ...            0   \n",
              "\n",
              "   Vishveshwarya Layout  Vishwapriya Layout  Vittasandra  Whitefield  \\\n",
              "0                     0                   0            0           0   \n",
              "1                     0                   0            0           0   \n",
              "\n",
              "   Yelachenahalli  Yelahanka  Yelahanka New Town  Yelenahalli  Yeshwanthpur  \n",
              "0               0          0                   0            0             0  \n",
              "1               0          0                   0            0             0  \n",
              "\n",
              "[2 rows x 243 columns]"
            ],
            "text/html": [
              "\n",
              "  <div id=\"df-2226021d-a8bf-4d31-85dd-5a5acab13d31\">\n",
              "    <div class=\"colab-df-container\">\n",
              "      <div>\n",
              "<style scoped>\n",
              "    .dataframe tbody tr th:only-of-type {\n",
              "        vertical-align: middle;\n",
              "    }\n",
              "\n",
              "    .dataframe tbody tr th {\n",
              "        vertical-align: top;\n",
              "    }\n",
              "\n",
              "    .dataframe thead th {\n",
              "        text-align: right;\n",
              "    }\n",
              "</style>\n",
              "<table border=\"1\" class=\"dataframe\">\n",
              "  <thead>\n",
              "    <tr style=\"text-align: right;\">\n",
              "      <th></th>\n",
              "      <th>total_sqft</th>\n",
              "      <th>bath</th>\n",
              "      <th>BHK</th>\n",
              "      <th>1st Block Jayanagar</th>\n",
              "      <th>1st Phase JP Nagar</th>\n",
              "      <th>2nd Phase Judicial Layout</th>\n",
              "      <th>2nd Stage Nagarbhavi</th>\n",
              "      <th>5th Block Hbr Layout</th>\n",
              "      <th>5th Phase JP Nagar</th>\n",
              "      <th>6th Phase JP Nagar</th>\n",
              "      <th>...</th>\n",
              "      <th>Vijayanagar</th>\n",
              "      <th>Vishveshwarya Layout</th>\n",
              "      <th>Vishwapriya Layout</th>\n",
              "      <th>Vittasandra</th>\n",
              "      <th>Whitefield</th>\n",
              "      <th>Yelachenahalli</th>\n",
              "      <th>Yelahanka</th>\n",
              "      <th>Yelahanka New Town</th>\n",
              "      <th>Yelenahalli</th>\n",
              "      <th>Yeshwanthpur</th>\n",
              "    </tr>\n",
              "  </thead>\n",
              "  <tbody>\n",
              "    <tr>\n",
              "      <th>0</th>\n",
              "      <td>2850.0</td>\n",
              "      <td>4.0</td>\n",
              "      <td>4</td>\n",
              "      <td>1</td>\n",
              "      <td>0</td>\n",
              "      <td>0</td>\n",
              "      <td>0</td>\n",
              "      <td>0</td>\n",
              "      <td>0</td>\n",
              "      <td>0</td>\n",
              "      <td>...</td>\n",
              "      <td>0</td>\n",
              "      <td>0</td>\n",
              "      <td>0</td>\n",
              "      <td>0</td>\n",
              "      <td>0</td>\n",
              "      <td>0</td>\n",
              "      <td>0</td>\n",
              "      <td>0</td>\n",
              "      <td>0</td>\n",
              "      <td>0</td>\n",
              "    </tr>\n",
              "    <tr>\n",
              "      <th>1</th>\n",
              "      <td>1630.0</td>\n",
              "      <td>3.0</td>\n",
              "      <td>3</td>\n",
              "      <td>1</td>\n",
              "      <td>0</td>\n",
              "      <td>0</td>\n",
              "      <td>0</td>\n",
              "      <td>0</td>\n",
              "      <td>0</td>\n",
              "      <td>0</td>\n",
              "      <td>...</td>\n",
              "      <td>0</td>\n",
              "      <td>0</td>\n",
              "      <td>0</td>\n",
              "      <td>0</td>\n",
              "      <td>0</td>\n",
              "      <td>0</td>\n",
              "      <td>0</td>\n",
              "      <td>0</td>\n",
              "      <td>0</td>\n",
              "      <td>0</td>\n",
              "    </tr>\n",
              "  </tbody>\n",
              "</table>\n",
              "<p>2 rows × 243 columns</p>\n",
              "</div>\n",
              "      <button class=\"colab-df-convert\" onclick=\"convertToInteractive('df-2226021d-a8bf-4d31-85dd-5a5acab13d31')\"\n",
              "              title=\"Convert this dataframe to an interactive table.\"\n",
              "              style=\"display:none;\">\n",
              "        \n",
              "  <svg xmlns=\"http://www.w3.org/2000/svg\" height=\"24px\"viewBox=\"0 0 24 24\"\n",
              "       width=\"24px\">\n",
              "    <path d=\"M0 0h24v24H0V0z\" fill=\"none\"/>\n",
              "    <path d=\"M18.56 5.44l.94 2.06.94-2.06 2.06-.94-2.06-.94-.94-2.06-.94 2.06-2.06.94zm-11 1L8.5 8.5l.94-2.06 2.06-.94-2.06-.94L8.5 2.5l-.94 2.06-2.06.94zm10 10l.94 2.06.94-2.06 2.06-.94-2.06-.94-.94-2.06-.94 2.06-2.06.94z\"/><path d=\"M17.41 7.96l-1.37-1.37c-.4-.4-.92-.59-1.43-.59-.52 0-1.04.2-1.43.59L10.3 9.45l-7.72 7.72c-.78.78-.78 2.05 0 2.83L4 21.41c.39.39.9.59 1.41.59.51 0 1.02-.2 1.41-.59l7.78-7.78 2.81-2.81c.8-.78.8-2.07 0-2.86zM5.41 20L4 18.59l7.72-7.72 1.47 1.35L5.41 20z\"/>\n",
              "  </svg>\n",
              "      </button>\n",
              "      \n",
              "  <style>\n",
              "    .colab-df-container {\n",
              "      display:flex;\n",
              "      flex-wrap:wrap;\n",
              "      gap: 12px;\n",
              "    }\n",
              "\n",
              "    .colab-df-convert {\n",
              "      background-color: #E8F0FE;\n",
              "      border: none;\n",
              "      border-radius: 50%;\n",
              "      cursor: pointer;\n",
              "      display: none;\n",
              "      fill: #1967D2;\n",
              "      height: 32px;\n",
              "      padding: 0 0 0 0;\n",
              "      width: 32px;\n",
              "    }\n",
              "\n",
              "    .colab-df-convert:hover {\n",
              "      background-color: #E2EBFA;\n",
              "      box-shadow: 0px 1px 2px rgba(60, 64, 67, 0.3), 0px 1px 3px 1px rgba(60, 64, 67, 0.15);\n",
              "      fill: #174EA6;\n",
              "    }\n",
              "\n",
              "    [theme=dark] .colab-df-convert {\n",
              "      background-color: #3B4455;\n",
              "      fill: #D2E3FC;\n",
              "    }\n",
              "\n",
              "    [theme=dark] .colab-df-convert:hover {\n",
              "      background-color: #434B5C;\n",
              "      box-shadow: 0px 1px 3px 1px rgba(0, 0, 0, 0.15);\n",
              "      filter: drop-shadow(0px 1px 2px rgba(0, 0, 0, 0.3));\n",
              "      fill: #FFFFFF;\n",
              "    }\n",
              "  </style>\n",
              "\n",
              "      <script>\n",
              "        const buttonEl =\n",
              "          document.querySelector('#df-2226021d-a8bf-4d31-85dd-5a5acab13d31 button.colab-df-convert');\n",
              "        buttonEl.style.display =\n",
              "          google.colab.kernel.accessAllowed ? 'block' : 'none';\n",
              "\n",
              "        async function convertToInteractive(key) {\n",
              "          const element = document.querySelector('#df-2226021d-a8bf-4d31-85dd-5a5acab13d31');\n",
              "          const dataTable =\n",
              "            await google.colab.kernel.invokeFunction('convertToInteractive',\n",
              "                                                     [key], {});\n",
              "          if (!dataTable) return;\n",
              "\n",
              "          const docLinkHtml = 'Like what you see? Visit the ' +\n",
              "            '<a target=\"_blank\" href=https://colab.research.google.com/notebooks/data_table.ipynb>data table notebook</a>'\n",
              "            + ' to learn more about interactive tables.';\n",
              "          element.innerHTML = '';\n",
              "          dataTable['output_type'] = 'display_data';\n",
              "          await google.colab.output.renderOutput(dataTable, element);\n",
              "          const docLink = document.createElement('div');\n",
              "          docLink.innerHTML = docLinkHtml;\n",
              "          element.appendChild(docLink);\n",
              "        }\n",
              "      </script>\n",
              "    </div>\n",
              "  </div>\n",
              "  "
            ]
          },
          "metadata": {},
          "execution_count": 84
        },
        {
          "output_type": "stream",
          "name": "stdout",
          "text": [
            "Warning: Total number of columns (243) exceeds max_columns (20) limiting to first (20) columns.\n"
          ]
        }
      ]
    },
    {
      "cell_type": "code",
      "source": [
        "y.head(2)"
      ],
      "metadata": {
        "colab": {
          "base_uri": "https://localhost:8080/"
        },
        "id": "V-BzHs90o1Rb",
        "outputId": "46d4b643-616e-4f8a-f582-c85f71d7d83e"
      },
      "execution_count": 85,
      "outputs": [
        {
          "output_type": "execute_result",
          "data": {
            "text/plain": [
              "0    428.0\n",
              "1    194.0\n",
              "Name: price, dtype: float64"
            ]
          },
          "metadata": {},
          "execution_count": 85
        }
      ]
    },
    {
      "cell_type": "code",
      "source": [
        "X_train, X_test, y_train, y_test = train_test_split(X,y,test_size=0.2,random_state=10)"
      ],
      "metadata": {
        "id": "e1J7JHAmo3Bo"
      },
      "execution_count": 87,
      "outputs": []
    },
    {
      "cell_type": "code",
      "source": [
        "LR = LinearRegression()\n",
        "LR.fit(X_train,y_train)\n",
        "LR.score(X_test,y_test)"
      ],
      "metadata": {
        "id": "ko6XXln8px9g",
        "outputId": "57e05191-6b10-4ca9-eb5b-146d9a22cab3",
        "colab": {
          "base_uri": "https://localhost:8080/"
        }
      },
      "execution_count": 88,
      "outputs": [
        {
          "output_type": "execute_result",
          "data": {
            "text/plain": [
              "0.8629132245229447"
            ]
          },
          "metadata": {},
          "execution_count": 88
        }
      ]
    },
    {
      "cell_type": "code",
      "source": [
        "cv = ShuffleSplit(n_splits=5, test_size=0.2, random_state=0)\n",
        "\n",
        "cross_val_score(LinearRegression(), X, y, cv=cv)"
      ],
      "metadata": {
        "id": "l008SmXep7Vk",
        "outputId": "024cd98f-2762-4436-fa33-923065dc8f70",
        "colab": {
          "base_uri": "https://localhost:8080/"
        }
      },
      "execution_count": 89,
      "outputs": [
        {
          "output_type": "execute_result",
          "data": {
            "text/plain": [
              "array([0.82702546, 0.86027005, 0.85322178, 0.8436466 , 0.85481502])"
            ]
          },
          "metadata": {},
          "execution_count": 89
        }
      ]
    },
    {
      "cell_type": "markdown",
      "source": [
        "We can see that in 5 iterations we get a score above 80% all the time. This is pretty good but we want to test few other algorithms for regression to see if we can get even better score. We will use GridSearchCV for this purpose"
      ],
      "metadata": {
        "id": "_Zbj6jvUqHW0"
      }
    },
    {
      "cell_type": "code",
      "source": [
        ""
      ],
      "metadata": {
        "id": "E13Uz94aqunx"
      },
      "execution_count": null,
      "outputs": []
    },
    {
      "cell_type": "markdown",
      "source": [
        "#### GridSearchCV"
      ],
      "metadata": {
        "id": "oo-96q8VqMsH"
      }
    },
    {
      "cell_type": "code",
      "source": [
        "import warnings\n",
        "warnings.filterwarnings(\"ignore\")"
      ],
      "metadata": {
        "id": "vAJ60U4Gqvqa"
      },
      "execution_count": 94,
      "outputs": []
    },
    {
      "cell_type": "code",
      "source": [
        "def find_best_model_using_gridsearchcv(X,y):\n",
        "    algos = {\n",
        "        'linear_regression' : {\n",
        "            'model': LinearRegression(),\n",
        "            'params': {\n",
        "                'normalize': [True, False]\n",
        "            }\n",
        "        },\n",
        "        'lasso': {\n",
        "            'model': Lasso(),\n",
        "            'params': {\n",
        "                'alpha': [1,2],\n",
        "                'selection': ['random', 'cyclic']\n",
        "            }\n",
        "        },\n",
        "        'decision_tree': {\n",
        "            'model': DecisionTreeRegressor(),\n",
        "            'params': {\n",
        "                'criterion' : ['mse','friedman_mse'],\n",
        "                'splitter': ['best','random']\n",
        "            }\n",
        "        }\n",
        "    }\n",
        "    scores = []\n",
        "    cv = ShuffleSplit(n_splits=5, test_size=0.2, random_state=0)\n",
        "    for algo_name, config in algos.items():\n",
        "        gs =  GridSearchCV(config['model'], config['params'], cv=cv, return_train_score=False)\n",
        "        gs.fit(X,y)\n",
        "        scores.append({\n",
        "            'model': algo_name,\n",
        "            'best_score': gs.best_score_,\n",
        "            'best_params': gs.best_params_\n",
        "        })\n",
        "\n",
        "    return pd.DataFrame(scores,columns=['model','best_score','best_params'])"
      ],
      "metadata": {
        "id": "lJpfsfLYqCxN"
      },
      "execution_count": 95,
      "outputs": []
    },
    {
      "cell_type": "code",
      "source": [
        "find_best_model_using_gridsearchcv(X,y)"
      ],
      "metadata": {
        "id": "jpr9TfoAqLRh",
        "outputId": "e186c609-7ca8-48db-9c0d-9750f37108ad",
        "colab": {
          "base_uri": "https://localhost:8080/",
          "height": 143
        }
      },
      "execution_count": 96,
      "outputs": [
        {
          "output_type": "execute_result",
          "data": {
            "text/plain": [
              "               model  best_score                               best_params\n",
              "0  linear_regression    0.847796                      {'normalize': False}\n",
              "1              lasso    0.726747       {'alpha': 2, 'selection': 'random'}\n",
              "2      decision_tree    0.717141  {'criterion': 'mse', 'splitter': 'best'}"
            ],
            "text/html": [
              "\n",
              "  <div id=\"df-acdb3f3d-efd3-4f7c-acf9-2bea82f543d2\">\n",
              "    <div class=\"colab-df-container\">\n",
              "      <div>\n",
              "<style scoped>\n",
              "    .dataframe tbody tr th:only-of-type {\n",
              "        vertical-align: middle;\n",
              "    }\n",
              "\n",
              "    .dataframe tbody tr th {\n",
              "        vertical-align: top;\n",
              "    }\n",
              "\n",
              "    .dataframe thead th {\n",
              "        text-align: right;\n",
              "    }\n",
              "</style>\n",
              "<table border=\"1\" class=\"dataframe\">\n",
              "  <thead>\n",
              "    <tr style=\"text-align: right;\">\n",
              "      <th></th>\n",
              "      <th>model</th>\n",
              "      <th>best_score</th>\n",
              "      <th>best_params</th>\n",
              "    </tr>\n",
              "  </thead>\n",
              "  <tbody>\n",
              "    <tr>\n",
              "      <th>0</th>\n",
              "      <td>linear_regression</td>\n",
              "      <td>0.847796</td>\n",
              "      <td>{'normalize': False}</td>\n",
              "    </tr>\n",
              "    <tr>\n",
              "      <th>1</th>\n",
              "      <td>lasso</td>\n",
              "      <td>0.726747</td>\n",
              "      <td>{'alpha': 2, 'selection': 'random'}</td>\n",
              "    </tr>\n",
              "    <tr>\n",
              "      <th>2</th>\n",
              "      <td>decision_tree</td>\n",
              "      <td>0.717141</td>\n",
              "      <td>{'criterion': 'mse', 'splitter': 'best'}</td>\n",
              "    </tr>\n",
              "  </tbody>\n",
              "</table>\n",
              "</div>\n",
              "      <button class=\"colab-df-convert\" onclick=\"convertToInteractive('df-acdb3f3d-efd3-4f7c-acf9-2bea82f543d2')\"\n",
              "              title=\"Convert this dataframe to an interactive table.\"\n",
              "              style=\"display:none;\">\n",
              "        \n",
              "  <svg xmlns=\"http://www.w3.org/2000/svg\" height=\"24px\"viewBox=\"0 0 24 24\"\n",
              "       width=\"24px\">\n",
              "    <path d=\"M0 0h24v24H0V0z\" fill=\"none\"/>\n",
              "    <path d=\"M18.56 5.44l.94 2.06.94-2.06 2.06-.94-2.06-.94-.94-2.06-.94 2.06-2.06.94zm-11 1L8.5 8.5l.94-2.06 2.06-.94-2.06-.94L8.5 2.5l-.94 2.06-2.06.94zm10 10l.94 2.06.94-2.06 2.06-.94-2.06-.94-.94-2.06-.94 2.06-2.06.94z\"/><path d=\"M17.41 7.96l-1.37-1.37c-.4-.4-.92-.59-1.43-.59-.52 0-1.04.2-1.43.59L10.3 9.45l-7.72 7.72c-.78.78-.78 2.05 0 2.83L4 21.41c.39.39.9.59 1.41.59.51 0 1.02-.2 1.41-.59l7.78-7.78 2.81-2.81c.8-.78.8-2.07 0-2.86zM5.41 20L4 18.59l7.72-7.72 1.47 1.35L5.41 20z\"/>\n",
              "  </svg>\n",
              "      </button>\n",
              "      \n",
              "  <style>\n",
              "    .colab-df-container {\n",
              "      display:flex;\n",
              "      flex-wrap:wrap;\n",
              "      gap: 12px;\n",
              "    }\n",
              "\n",
              "    .colab-df-convert {\n",
              "      background-color: #E8F0FE;\n",
              "      border: none;\n",
              "      border-radius: 50%;\n",
              "      cursor: pointer;\n",
              "      display: none;\n",
              "      fill: #1967D2;\n",
              "      height: 32px;\n",
              "      padding: 0 0 0 0;\n",
              "      width: 32px;\n",
              "    }\n",
              "\n",
              "    .colab-df-convert:hover {\n",
              "      background-color: #E2EBFA;\n",
              "      box-shadow: 0px 1px 2px rgba(60, 64, 67, 0.3), 0px 1px 3px 1px rgba(60, 64, 67, 0.15);\n",
              "      fill: #174EA6;\n",
              "    }\n",
              "\n",
              "    [theme=dark] .colab-df-convert {\n",
              "      background-color: #3B4455;\n",
              "      fill: #D2E3FC;\n",
              "    }\n",
              "\n",
              "    [theme=dark] .colab-df-convert:hover {\n",
              "      background-color: #434B5C;\n",
              "      box-shadow: 0px 1px 3px 1px rgba(0, 0, 0, 0.15);\n",
              "      filter: drop-shadow(0px 1px 2px rgba(0, 0, 0, 0.3));\n",
              "      fill: #FFFFFF;\n",
              "    }\n",
              "  </style>\n",
              "\n",
              "      <script>\n",
              "        const buttonEl =\n",
              "          document.querySelector('#df-acdb3f3d-efd3-4f7c-acf9-2bea82f543d2 button.colab-df-convert');\n",
              "        buttonEl.style.display =\n",
              "          google.colab.kernel.accessAllowed ? 'block' : 'none';\n",
              "\n",
              "        async function convertToInteractive(key) {\n",
              "          const element = document.querySelector('#df-acdb3f3d-efd3-4f7c-acf9-2bea82f543d2');\n",
              "          const dataTable =\n",
              "            await google.colab.kernel.invokeFunction('convertToInteractive',\n",
              "                                                     [key], {});\n",
              "          if (!dataTable) return;\n",
              "\n",
              "          const docLinkHtml = 'Like what you see? Visit the ' +\n",
              "            '<a target=\"_blank\" href=https://colab.research.google.com/notebooks/data_table.ipynb>data table notebook</a>'\n",
              "            + ' to learn more about interactive tables.';\n",
              "          element.innerHTML = '';\n",
              "          dataTable['output_type'] = 'display_data';\n",
              "          await google.colab.output.renderOutput(dataTable, element);\n",
              "          const docLink = document.createElement('div');\n",
              "          docLink.innerHTML = docLinkHtml;\n",
              "          element.appendChild(docLink);\n",
              "        }\n",
              "      </script>\n",
              "    </div>\n",
              "  </div>\n",
              "  "
            ]
          },
          "metadata": {},
          "execution_count": 96
        }
      ]
    },
    {
      "cell_type": "markdown",
      "source": [
        "Based on above results we can say that LinearRegression gives the best score. Hence we will use that."
      ],
      "metadata": {
        "id": "yEiYxrenrXe_"
      }
    },
    {
      "cell_type": "code",
      "source": [
        "def predict_price(location,sqft,bath,bhk):    \n",
        "    loc_index = np.where(X.columns==location)[0][0]\n",
        "\n",
        "    x = np.zeros(len(X.columns))\n",
        "    x[0] = sqft\n",
        "    x[1] = bath\n",
        "    x[2] = bhk\n",
        "    if loc_index >= 0:\n",
        "        x[loc_index] = 1\n",
        "\n",
        "    return LR.predict([x])[0]"
      ],
      "metadata": {
        "id": "m6maVW6GrXRr"
      },
      "execution_count": 98,
      "outputs": []
    },
    {
      "cell_type": "code",
      "source": [
        "predict_price('1st Phase JP Nagar',1000, 2, 2)"
      ],
      "metadata": {
        "id": "kCeIxqyyqeNW",
        "outputId": "166a4051-9330-401c-9eb1-5057a628396f",
        "colab": {
          "base_uri": "https://localhost:8080/"
        }
      },
      "execution_count": 99,
      "outputs": [
        {
          "output_type": "execute_result",
          "data": {
            "text/plain": [
              "83.86570258311595"
            ]
          },
          "metadata": {},
          "execution_count": 99
        }
      ]
    },
    {
      "cell_type": "code",
      "source": [
        "predict_price('Indira Nagar',1000, 2, 2)"
      ],
      "metadata": {
        "id": "HxBLharWrgqJ",
        "outputId": "a653b177-cfd9-495f-f34e-1bba3187503a",
        "colab": {
          "base_uri": "https://localhost:8080/"
        }
      },
      "execution_count": 100,
      "outputs": [
        {
          "output_type": "execute_result",
          "data": {
            "text/plain": [
              "193.3119773317968"
            ]
          },
          "metadata": {},
          "execution_count": 100
        }
      ]
    },
    {
      "cell_type": "markdown",
      "source": [
        "### Export Model"
      ],
      "metadata": {
        "id": "4jO1iHdSrwlW"
      }
    },
    {
      "cell_type": "code",
      "source": [
        "pickle.dump(LR,open(\"LR_Model.pkl\",\"wb\"))"
      ],
      "metadata": {
        "id": "-s309T-QrjL5"
      },
      "execution_count": 102,
      "outputs": []
    },
    {
      "cell_type": "code",
      "source": [
        "import json\n",
        "columns = {\n",
        "    'data_columns' : [col.lower() for col in X.columns]\n",
        "}\n",
        "with open(\"columns.json\",\"w\") as f:\n",
        "    f.write(json.dumps(columns))"
      ],
      "metadata": {
        "id": "g8YNAQCer5IB"
      },
      "execution_count": 103,
      "outputs": []
    },
    {
      "cell_type": "code",
      "source": [
        ""
      ],
      "metadata": {
        "id": "qy2_EuslsBIQ"
      },
      "execution_count": null,
      "outputs": []
    }
  ]
}